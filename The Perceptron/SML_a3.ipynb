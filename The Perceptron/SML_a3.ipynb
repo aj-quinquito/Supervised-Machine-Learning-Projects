{
 "cells": [
  {
   "cell_type": "code",
   "execution_count": 1,
   "id": "16bbea5e-9fdf-4c5f-80c8-5c9d4d593654",
   "metadata": {},
   "outputs": [],
   "source": [
    "from matplotlib import pyplot as plt\n",
    "import numpy as np\n",
    "import pandas as pd\n",
    "import random\n",
    "import utils\n",
    "import turicreate as tc"
   ]
  },
  {
   "cell_type": "markdown",
   "id": "3ca61ba7-fef1-4a65-b07b-39e120e85026",
   "metadata": {},
   "source": [
    "### 1) [2 mark] Which is worse for this use case, a false positive or a false negative? What value of β would be suitable for an Fβ score?\n",
    "\n",
    "- A false negative is probably more harmful than a false positive since it happens when a device that is working well is mistakenly labeled as unsuccessful. A false negative can cause maintenance or repairs to be put off, which could increase downtime or even put people's safety at risk. Thus, reducing false negatives is essential to guarantee prompt response and avoid any risks. Recall, which is particularly significant in this situation, should be given priority, hence a Fβ score should have a value of β larger than 1. This would highlight the necessity of taking into account the consequences of false positives while also minimizing false negatives."
   ]
  },
  {
   "cell_type": "markdown",
   "id": "0681c3b6-620f-4edd-bc62-1b7c02d5b263",
   "metadata": {},
   "source": [
    "### 2) [1 mark] Load the CSV file into an SFrame named data. Print the SFrame. Split the data into training/validation/testing sets using 80%/10%/10% respectively."
   ]
  },
  {
   "cell_type": "code",
   "execution_count": 2,
   "id": "240d432c-57d3-4429-b4a7-75d8d61678f1",
   "metadata": {},
   "outputs": [
    {
     "data": {
      "text/html": [
       "<pre>Finished parsing file /home/mquinquito/SupervisedML/Assignment 3/393590_data.csv</pre>"
      ],
      "text/plain": [
       "Finished parsing file /home/mquinquito/SupervisedML/Assignment 3/393590_data.csv"
      ]
     },
     "metadata": {},
     "output_type": "display_data"
    },
    {
     "name": "stdout",
     "output_type": "stream",
     "text": [
      "------------------------------------------------------\n",
      "Inferred types from first 100 line(s) of file as \n",
      "column_type_hints=[int,float,float,float]\n",
      "If parsing fails due to incorrect types, you can correct\n",
      "the inferred type list above and pass it to read_csv in\n",
      "the column_type_hints argument\n",
      "------------------------------------------------------\n"
     ]
    },
    {
     "data": {
      "text/html": [
       "<pre>Parsing completed. Parsed 100 lines in 0.031133 secs.</pre>"
      ],
      "text/plain": [
       "Parsing completed. Parsed 100 lines in 0.031133 secs."
      ]
     },
     "metadata": {},
     "output_type": "display_data"
    },
    {
     "data": {
      "text/html": [
       "<pre>Finished parsing file /home/mquinquito/SupervisedML/Assignment 3/393590_data.csv</pre>"
      ],
      "text/plain": [
       "Finished parsing file /home/mquinquito/SupervisedML/Assignment 3/393590_data.csv"
      ]
     },
     "metadata": {},
     "output_type": "display_data"
    },
    {
     "data": {
      "text/html": [
       "<pre>Parsing completed. Parsed 1000 lines in 0.032392 secs.</pre>"
      ],
      "text/plain": [
       "Parsing completed. Parsed 1000 lines in 0.032392 secs."
      ]
     },
     "metadata": {},
     "output_type": "display_data"
    },
    {
     "data": {
      "text/html": [
       "<div style=\"max-height:1000px;max-width:1500px;overflow:auto;\"><table frame=\"box\" rules=\"cols\">\n",
       "    <tr>\n",
       "        <th style=\"padding-left: 1em; padding-right: 1em; text-align: center\">Condition</th>\n",
       "        <th style=\"padding-left: 1em; padding-right: 1em; text-align: center\">Voltage</th>\n",
       "        <th style=\"padding-left: 1em; padding-right: 1em; text-align: center\">Current</th>\n",
       "        <th style=\"padding-left: 1em; padding-right: 1em; text-align: center\">Temperature</th>\n",
       "    </tr>\n",
       "    <tr>\n",
       "        <td style=\"padding-left: 1em; padding-right: 1em; text-align: center; vertical-align: top\">0</td>\n",
       "        <td style=\"padding-left: 1em; padding-right: 1em; text-align: center; vertical-align: top\">25.779241050628</td>\n",
       "        <td style=\"padding-left: 1em; padding-right: 1em; text-align: center; vertical-align: top\">404.526777795798</td>\n",
       "        <td style=\"padding-left: 1em; padding-right: 1em; text-align: center; vertical-align: top\">48.64857997939851</td>\n",
       "    </tr>\n",
       "    <tr>\n",
       "        <td style=\"padding-left: 1em; padding-right: 1em; text-align: center; vertical-align: top\">1</td>\n",
       "        <td style=\"padding-left: 1em; padding-right: 1em; text-align: center; vertical-align: top\">24.394498215927825</td>\n",
       "        <td style=\"padding-left: 1em; padding-right: 1em; text-align: center; vertical-align: top\">402.9957038975727</td>\n",
       "        <td style=\"padding-left: 1em; padding-right: 1em; text-align: center; vertical-align: top\">50.24546255731812</td>\n",
       "    </tr>\n",
       "    <tr>\n",
       "        <td style=\"padding-left: 1em; padding-right: 1em; text-align: center; vertical-align: top\">1</td>\n",
       "        <td style=\"padding-left: 1em; padding-right: 1em; text-align: center; vertical-align: top\">23.47815432516812</td>\n",
       "        <td style=\"padding-left: 1em; padding-right: 1em; text-align: center; vertical-align: top\">402.8960790594549</td>\n",
       "        <td style=\"padding-left: 1em; padding-right: 1em; text-align: center; vertical-align: top\">53.60534851528527</td>\n",
       "    </tr>\n",
       "    <tr>\n",
       "        <td style=\"padding-left: 1em; padding-right: 1em; text-align: center; vertical-align: top\">1</td>\n",
       "        <td style=\"padding-left: 1em; padding-right: 1em; text-align: center; vertical-align: top\">24.426941232344475</td>\n",
       "        <td style=\"padding-left: 1em; padding-right: 1em; text-align: center; vertical-align: top\">403.4806321016539</td>\n",
       "        <td style=\"padding-left: 1em; padding-right: 1em; text-align: center; vertical-align: top\">57.91316159115543</td>\n",
       "    </tr>\n",
       "    <tr>\n",
       "        <td style=\"padding-left: 1em; padding-right: 1em; text-align: center; vertical-align: top\">1</td>\n",
       "        <td style=\"padding-left: 1em; padding-right: 1em; text-align: center; vertical-align: top\">26.36834313478908</td>\n",
       "        <td style=\"padding-left: 1em; padding-right: 1em; text-align: center; vertical-align: top\">406.19202169407464</td>\n",
       "        <td style=\"padding-left: 1em; padding-right: 1em; text-align: center; vertical-align: top\">49.28729680256902</td>\n",
       "    </tr>\n",
       "    <tr>\n",
       "        <td style=\"padding-left: 1em; padding-right: 1em; text-align: center; vertical-align: top\">1</td>\n",
       "        <td style=\"padding-left: 1em; padding-right: 1em; text-align: center; vertical-align: top\">23.497503761889018</td>\n",
       "        <td style=\"padding-left: 1em; padding-right: 1em; text-align: center; vertical-align: top\">405.2762344100874</td>\n",
       "        <td style=\"padding-left: 1em; padding-right: 1em; text-align: center; vertical-align: top\">38.84014624134753</td>\n",
       "    </tr>\n",
       "    <tr>\n",
       "        <td style=\"padding-left: 1em; padding-right: 1em; text-align: center; vertical-align: top\">1</td>\n",
       "        <td style=\"padding-left: 1em; padding-right: 1em; text-align: center; vertical-align: top\">23.873954799434433</td>\n",
       "        <td style=\"padding-left: 1em; padding-right: 1em; text-align: center; vertical-align: top\">405.3273853849352</td>\n",
       "        <td style=\"padding-left: 1em; padding-right: 1em; text-align: center; vertical-align: top\">55.327939359232374</td>\n",
       "    </tr>\n",
       "    <tr>\n",
       "        <td style=\"padding-left: 1em; padding-right: 1em; text-align: center; vertical-align: top\">1</td>\n",
       "        <td style=\"padding-left: 1em; padding-right: 1em; text-align: center; vertical-align: top\">22.8044660569502</td>\n",
       "        <td style=\"padding-left: 1em; padding-right: 1em; text-align: center; vertical-align: top\">402.27810798153354</td>\n",
       "        <td style=\"padding-left: 1em; padding-right: 1em; text-align: center; vertical-align: top\">58.22484909282559</td>\n",
       "    </tr>\n",
       "    <tr>\n",
       "        <td style=\"padding-left: 1em; padding-right: 1em; text-align: center; vertical-align: top\">1</td>\n",
       "        <td style=\"padding-left: 1em; padding-right: 1em; text-align: center; vertical-align: top\">22.429906107947136</td>\n",
       "        <td style=\"padding-left: 1em; padding-right: 1em; text-align: center; vertical-align: top\">404.6046728702049</td>\n",
       "        <td style=\"padding-left: 1em; padding-right: 1em; text-align: center; vertical-align: top\">51.93961750661945</td>\n",
       "    </tr>\n",
       "    <tr>\n",
       "        <td style=\"padding-left: 1em; padding-right: 1em; text-align: center; vertical-align: top\">0</td>\n",
       "        <td style=\"padding-left: 1em; padding-right: 1em; text-align: center; vertical-align: top\">22.72476840470599</td>\n",
       "        <td style=\"padding-left: 1em; padding-right: 1em; text-align: center; vertical-align: top\">404.1648793767175</td>\n",
       "        <td style=\"padding-left: 1em; padding-right: 1em; text-align: center; vertical-align: top\">41.840980637919486</td>\n",
       "    </tr>\n",
       "</table>\n",
       "[1000 rows x 4 columns]<br/>Note: Only the head of the SFrame is printed.<br/>You can use print_rows(num_rows=m, num_columns=n) to print more rows and columns.\n",
       "</div>"
      ],
      "text/plain": [
       "Columns:\n",
       "\tCondition\tint\n",
       "\tVoltage\tfloat\n",
       "\tCurrent\tfloat\n",
       "\tTemperature\tfloat\n",
       "\n",
       "Rows: 1000\n",
       "\n",
       "Data:\n",
       "+-----------+--------------------+--------------------+--------------------+\n",
       "| Condition |      Voltage       |      Current       |    Temperature     |\n",
       "+-----------+--------------------+--------------------+--------------------+\n",
       "|     0     |  25.779241050628   |  404.526777795798  | 48.64857997939851  |\n",
       "|     1     | 24.394498215927825 | 402.9957038975727  | 50.24546255731812  |\n",
       "|     1     | 23.47815432516812  | 402.8960790594549  | 53.60534851528527  |\n",
       "|     1     | 24.426941232344475 | 403.4806321016539  | 57.91316159115543  |\n",
       "|     1     | 26.36834313478908  | 406.19202169407464 | 49.28729680256902  |\n",
       "|     1     | 23.497503761889018 | 405.2762344100874  | 38.84014624134753  |\n",
       "|     1     | 23.873954799434433 | 405.3273853849352  | 55.327939359232374 |\n",
       "|     1     |  22.8044660569502  | 402.27810798153354 | 58.22484909282559  |\n",
       "|     1     | 22.429906107947136 | 404.6046728702049  | 51.93961750661945  |\n",
       "|     0     | 22.72476840470599  | 404.1648793767175  | 41.840980637919486 |\n",
       "+-----------+--------------------+--------------------+--------------------+\n",
       "[1000 rows x 4 columns]\n",
       "Note: Only the head of the SFrame is printed.\n",
       "You can use print_rows(num_rows=m, num_columns=n) to print more rows and columns."
      ]
     },
     "execution_count": 2,
     "metadata": {},
     "output_type": "execute_result"
    }
   ],
   "source": [
    "# Load CSV file into SFrame\n",
    "file_path = '393590_data.csv'\n",
    "data = tc.SFrame.read_csv(file_path)\n",
    "\n",
    "# Display the file\n",
    "data"
   ]
  },
  {
   "cell_type": "code",
   "execution_count": 3,
   "id": "293ab074-0312-475a-b7a1-51254540e594",
   "metadata": {},
   "outputs": [
    {
     "name": "stdout",
     "output_type": "stream",
     "text": [
      "0.505\n",
      "0.495\n",
      "0.197\n"
     ]
    }
   ],
   "source": [
    "# Split the data into training, validation, and testing sets using 80%/10%/10% respectively\n",
    "train_data, test_data = data.random_split(0.8)\n",
    "\n",
    "# Split the data into training and validation sets using a 50%/50% ratio\n",
    "train_data, validation_data = data.random_split(0.5)\n",
    "\n",
    "# Print the data\n",
    "print(len(train_data)/len(data))\n",
    "print(len(validation_data)/len(data))\n",
    "print(len(test_data)/len(data))"
   ]
  },
  {
   "cell_type": "markdown",
   "id": "6bf6a2a9-ae01-406f-ad16-c4ac109f2bbb",
   "metadata": {},
   "source": [
    "### 3) [2 marks] Is feature rescaling turned on by default for the function turicreate.logistic_classifier.create? What scale (original or rescaled) are the coefficients given in?\n",
    "\n",
    "- Yes, Turi Create's turicreate.logistic_classifier.create function has feature rescaling enabled by default. Following the logistic regression model's training, the coefficients are given in terms of the rescaled features. This indicates that rather than using the original input features, the coefficients are based on the rescaled version of the features. A typical machine learning preprocessing step is feature rescaling, which makes sure that characteristics with varying scales don't unnecessarily affect the model-training procedure."
   ]
  },
  {
   "cell_type": "markdown",
   "id": "c297b2c6-3adf-4275-95c3-e68ea171bb9a",
   "metadata": {},
   "source": [
    "### 4) [3 marks] Create perceptrons using Turicreate to classify data with ‘Condition’ as the target. Experiment with different values of hyperparameters to develop two different models."
   ]
  },
  {
   "cell_type": "markdown",
   "id": "2b8f7e8a-c927-44b0-bead-e2ea3b53ab64",
   "metadata": {},
   "source": [
    "#### For Model 1"
   ]
  },
  {
   "cell_type": "code",
   "execution_count": 4,
   "id": "8b5fc737-6bb3-4f86-9b7d-18e978c6d487",
   "metadata": {},
   "outputs": [
    {
     "data": {
      "text/html": [
       "<pre>Logistic regression:</pre>"
      ],
      "text/plain": [
       "Logistic regression:"
      ]
     },
     "metadata": {},
     "output_type": "display_data"
    },
    {
     "data": {
      "text/html": [
       "<pre>--------------------------------------------------------</pre>"
      ],
      "text/plain": [
       "--------------------------------------------------------"
      ]
     },
     "metadata": {},
     "output_type": "display_data"
    },
    {
     "data": {
      "text/html": [
       "<pre>Number of examples          : 505</pre>"
      ],
      "text/plain": [
       "Number of examples          : 505"
      ]
     },
     "metadata": {},
     "output_type": "display_data"
    },
    {
     "data": {
      "text/html": [
       "<pre>Number of classes           : 2</pre>"
      ],
      "text/plain": [
       "Number of classes           : 2"
      ]
     },
     "metadata": {},
     "output_type": "display_data"
    },
    {
     "data": {
      "text/html": [
       "<pre>Number of feature columns   : 3</pre>"
      ],
      "text/plain": [
       "Number of feature columns   : 3"
      ]
     },
     "metadata": {},
     "output_type": "display_data"
    },
    {
     "data": {
      "text/html": [
       "<pre>Number of unpacked features : 3</pre>"
      ],
      "text/plain": [
       "Number of unpacked features : 3"
      ]
     },
     "metadata": {},
     "output_type": "display_data"
    },
    {
     "data": {
      "text/html": [
       "<pre>Number of coefficients      : 4</pre>"
      ],
      "text/plain": [
       "Number of coefficients      : 4"
      ]
     },
     "metadata": {},
     "output_type": "display_data"
    },
    {
     "data": {
      "text/html": [
       "<pre>Starting Newton Method</pre>"
      ],
      "text/plain": [
       "Starting Newton Method"
      ]
     },
     "metadata": {},
     "output_type": "display_data"
    },
    {
     "data": {
      "text/html": [
       "<pre>--------------------------------------------------------</pre>"
      ],
      "text/plain": [
       "--------------------------------------------------------"
      ]
     },
     "metadata": {},
     "output_type": "display_data"
    },
    {
     "data": {
      "text/html": [
       "<pre>+-----------+----------+--------------+-------------------+---------------------+</pre>"
      ],
      "text/plain": [
       "+-----------+----------+--------------+-------------------+---------------------+"
      ]
     },
     "metadata": {},
     "output_type": "display_data"
    },
    {
     "data": {
      "text/html": [
       "<pre>| Iteration | Passes   | Elapsed Time | Training Accuracy | Validation Accuracy |</pre>"
      ],
      "text/plain": [
       "| Iteration | Passes   | Elapsed Time | Training Accuracy | Validation Accuracy |"
      ]
     },
     "metadata": {},
     "output_type": "display_data"
    },
    {
     "data": {
      "text/html": [
       "<pre>+-----------+----------+--------------+-------------------+---------------------+</pre>"
      ],
      "text/plain": [
       "+-----------+----------+--------------+-------------------+---------------------+"
      ]
     },
     "metadata": {},
     "output_type": "display_data"
    },
    {
     "data": {
      "text/html": [
       "<pre>| 1         | 2        | 1.002731     | 0.902970          | 0.903030            |</pre>"
      ],
      "text/plain": [
       "| 1         | 2        | 1.002731     | 0.902970          | 0.903030            |"
      ]
     },
     "metadata": {},
     "output_type": "display_data"
    },
    {
     "data": {
      "text/html": [
       "<pre>| 2         | 3        | 1.006014     | 0.902970          | 0.903030            |</pre>"
      ],
      "text/plain": [
       "| 2         | 3        | 1.006014     | 0.902970          | 0.903030            |"
      ]
     },
     "metadata": {},
     "output_type": "display_data"
    },
    {
     "data": {
      "text/html": [
       "<pre>| 3         | 4        | 1.009292     | 0.902970          | 0.903030            |</pre>"
      ],
      "text/plain": [
       "| 3         | 4        | 1.009292     | 0.902970          | 0.903030            |"
      ]
     },
     "metadata": {},
     "output_type": "display_data"
    },
    {
     "data": {
      "text/html": [
       "<pre>| 4         | 5        | 1.012138     | 0.902970          | 0.903030            |</pre>"
      ],
      "text/plain": [
       "| 4         | 5        | 1.012138     | 0.902970          | 0.903030            |"
      ]
     },
     "metadata": {},
     "output_type": "display_data"
    },
    {
     "data": {
      "text/html": [
       "<pre>+-----------+----------+--------------+-------------------+---------------------+</pre>"
      ],
      "text/plain": [
       "+-----------+----------+--------------+-------------------+---------------------+"
      ]
     },
     "metadata": {},
     "output_type": "display_data"
    },
    {
     "data": {
      "text/html": [
       "<pre>SUCCESS: Optimal solution found.</pre>"
      ],
      "text/plain": [
       "SUCCESS: Optimal solution found."
      ]
     },
     "metadata": {},
     "output_type": "display_data"
    },
    {
     "data": {
      "text/html": [
       "<pre></pre>"
      ],
      "text/plain": []
     },
     "metadata": {},
     "output_type": "display_data"
    }
   ],
   "source": [
    "# Create the first perceptron model with default hyperparameters\n",
    "model1 = tc.logistic_classifier.create(\n",
    "    train_data, target='Condition', \n",
    "    features=['Voltage', 'Current', 'Temperature'], \n",
    "    step_size=0.1, \n",
    "    max_iterations=100, \n",
    "    # Evaluate model performance on the validation set during training for hyperparameter tuning and preventing overfitting, and to estimate performance on unseen data.\n",
    "    validation_set = validation_data\n",
    ")"
   ]
  },
  {
   "cell_type": "markdown",
   "id": "84fa2868-795b-4c01-b8d3-af81c505b937",
   "metadata": {},
   "source": [
    "#### For Model 2"
   ]
  },
  {
   "cell_type": "code",
   "execution_count": 5,
   "id": "96a564ed-7bd9-44de-a163-2722573b1150",
   "metadata": {},
   "outputs": [
    {
     "data": {
      "text/html": [
       "<pre>Logistic regression:</pre>"
      ],
      "text/plain": [
       "Logistic regression:"
      ]
     },
     "metadata": {},
     "output_type": "display_data"
    },
    {
     "data": {
      "text/html": [
       "<pre>--------------------------------------------------------</pre>"
      ],
      "text/plain": [
       "--------------------------------------------------------"
      ]
     },
     "metadata": {},
     "output_type": "display_data"
    },
    {
     "data": {
      "text/html": [
       "<pre>Number of examples          : 505</pre>"
      ],
      "text/plain": [
       "Number of examples          : 505"
      ]
     },
     "metadata": {},
     "output_type": "display_data"
    },
    {
     "data": {
      "text/html": [
       "<pre>Number of classes           : 2</pre>"
      ],
      "text/plain": [
       "Number of classes           : 2"
      ]
     },
     "metadata": {},
     "output_type": "display_data"
    },
    {
     "data": {
      "text/html": [
       "<pre>Number of feature columns   : 3</pre>"
      ],
      "text/plain": [
       "Number of feature columns   : 3"
      ]
     },
     "metadata": {},
     "output_type": "display_data"
    },
    {
     "data": {
      "text/html": [
       "<pre>Number of unpacked features : 3</pre>"
      ],
      "text/plain": [
       "Number of unpacked features : 3"
      ]
     },
     "metadata": {},
     "output_type": "display_data"
    },
    {
     "data": {
      "text/html": [
       "<pre>Number of coefficients      : 4</pre>"
      ],
      "text/plain": [
       "Number of coefficients      : 4"
      ]
     },
     "metadata": {},
     "output_type": "display_data"
    },
    {
     "data": {
      "text/html": [
       "<pre>Starting Newton Method</pre>"
      ],
      "text/plain": [
       "Starting Newton Method"
      ]
     },
     "metadata": {},
     "output_type": "display_data"
    },
    {
     "data": {
      "text/html": [
       "<pre>--------------------------------------------------------</pre>"
      ],
      "text/plain": [
       "--------------------------------------------------------"
      ]
     },
     "metadata": {},
     "output_type": "display_data"
    },
    {
     "data": {
      "text/html": [
       "<pre>+-----------+----------+--------------+-------------------+---------------------+</pre>"
      ],
      "text/plain": [
       "+-----------+----------+--------------+-------------------+---------------------+"
      ]
     },
     "metadata": {},
     "output_type": "display_data"
    },
    {
     "data": {
      "text/html": [
       "<pre>| Iteration | Passes   | Elapsed Time | Training Accuracy | Validation Accuracy |</pre>"
      ],
      "text/plain": [
       "| Iteration | Passes   | Elapsed Time | Training Accuracy | Validation Accuracy |"
      ]
     },
     "metadata": {},
     "output_type": "display_data"
    },
    {
     "data": {
      "text/html": [
       "<pre>+-----------+----------+--------------+-------------------+---------------------+</pre>"
      ],
      "text/plain": [
       "+-----------+----------+--------------+-------------------+---------------------+"
      ]
     },
     "metadata": {},
     "output_type": "display_data"
    },
    {
     "data": {
      "text/html": [
       "<pre>| 1         | 2        | 0.001137     | 0.902970          | 0.903030            |</pre>"
      ],
      "text/plain": [
       "| 1         | 2        | 0.001137     | 0.902970          | 0.903030            |"
      ]
     },
     "metadata": {},
     "output_type": "display_data"
    },
    {
     "data": {
      "text/html": [
       "<pre>| 2         | 3        | 0.002996     | 0.902970          | 0.903030            |</pre>"
      ],
      "text/plain": [
       "| 2         | 3        | 0.002996     | 0.902970          | 0.903030            |"
      ]
     },
     "metadata": {},
     "output_type": "display_data"
    },
    {
     "data": {
      "text/html": [
       "<pre>| 3         | 4        | 0.005024     | 0.902970          | 0.903030            |</pre>"
      ],
      "text/plain": [
       "| 3         | 4        | 0.005024     | 0.902970          | 0.903030            |"
      ]
     },
     "metadata": {},
     "output_type": "display_data"
    },
    {
     "data": {
      "text/html": [
       "<pre>| 4         | 5        | 0.007753     | 0.902970          | 0.903030            |</pre>"
      ],
      "text/plain": [
       "| 4         | 5        | 0.007753     | 0.902970          | 0.903030            |"
      ]
     },
     "metadata": {},
     "output_type": "display_data"
    },
    {
     "data": {
      "text/html": [
       "<pre>+-----------+----------+--------------+-------------------+---------------------+</pre>"
      ],
      "text/plain": [
       "+-----------+----------+--------------+-------------------+---------------------+"
      ]
     },
     "metadata": {},
     "output_type": "display_data"
    },
    {
     "data": {
      "text/html": [
       "<pre>SUCCESS: Optimal solution found.</pre>"
      ],
      "text/plain": [
       "SUCCESS: Optimal solution found."
      ]
     },
     "metadata": {},
     "output_type": "display_data"
    },
    {
     "data": {
      "text/html": [
       "<pre></pre>"
      ],
      "text/plain": []
     },
     "metadata": {},
     "output_type": "display_data"
    }
   ],
   "source": [
    "# Create the second perceptron model with different hyperparameters\n",
    "model2 = tc.logistic_classifier.create(\n",
    "    train_data, \n",
    "    target='Condition', \n",
    "    features=['Voltage', 'Current', 'Temperature'], \n",
    "    step_size=0.8, \n",
    "    max_iterations=400,\n",
    "    # Evaluate model performance on the validation set during training for hyperparameter tuning and preventing overfitting, and to estimate performance on unseen data.\n",
    "    validation_set = validation_data\n",
    ")"
   ]
  },
  {
   "cell_type": "markdown",
   "id": "97ac38d4-71a0-4a1e-90d0-8f6512651434",
   "metadata": {},
   "source": [
    "### 5) [4 marks] For each model:\n",
    "#### i) display the training and validation accuracies;\n",
    "#### ii) display the confusion matrix on the validation set;\n",
    "#### iii) calculate and display recall, precision, and Fβ score (using the value of β you chose above) on the validation set."
   ]
  },
  {
   "cell_type": "markdown",
   "id": "d66109db-933b-40d2-b7d9-2fe56a653471",
   "metadata": {},
   "source": [
    "#### For Model 1"
   ]
  },
  {
   "cell_type": "code",
   "execution_count": 6,
   "id": "926d481a-9b75-46a2-997e-29f0c7017c86",
   "metadata": {},
   "outputs": [],
   "source": [
    "# Predictions for training and validation data using Model 1\n",
    "class_predictions_train_model1 = model1.predict(train_data, output_type='class')\n",
    "class_predictions_val_model1 = model1.predict(validation_data, output_type='class')"
   ]
  },
  {
   "cell_type": "code",
   "execution_count": 7,
   "id": "33566712-1fc3-4359-8df9-d7340b548918",
   "metadata": {},
   "outputs": [
    {
     "name": "stdout",
     "output_type": "stream",
     "text": [
      "Training Accuracy: 0.902970297029703\n",
      "Validation Accuracy: 0.9030303030303031\n"
     ]
    }
   ],
   "source": [
    "# Calculate training accuracy for Model 1\n",
    "train_accuracy_model1 = tc.evaluation.accuracy(train_data['Condition'], class_predictions_train_model1)\n",
    "print(f\"Training Accuracy: {train_accuracy_model1}\")\n",
    "\n",
    "# Calculate validation accuracy for Model 1\n",
    "val_accuracy_model1 = tc.evaluation.accuracy(validation_data['Condition'], class_predictions_val_model1)\n",
    "print(f\"Validation Accuracy: {val_accuracy_model1}\")"
   ]
  },
  {
   "cell_type": "code",
   "execution_count": 8,
   "id": "6a7ab86b-4836-42cc-836d-cb0874e3c0c5",
   "metadata": {},
   "outputs": [
    {
     "data": {
      "text/html": [
       "<div style=\"max-height:1000px;max-width:1500px;overflow:auto;\"><table frame=\"box\" rules=\"cols\">\n",
       "    <tr>\n",
       "        <th style=\"padding-left: 1em; padding-right: 1em; text-align: center\">target_label</th>\n",
       "        <th style=\"padding-left: 1em; padding-right: 1em; text-align: center\">predicted_label</th>\n",
       "        <th style=\"padding-left: 1em; padding-right: 1em; text-align: center\">count</th>\n",
       "    </tr>\n",
       "    <tr>\n",
       "        <td style=\"padding-left: 1em; padding-right: 1em; text-align: center; vertical-align: top\">0</td>\n",
       "        <td style=\"padding-left: 1em; padding-right: 1em; text-align: center; vertical-align: top\">1</td>\n",
       "        <td style=\"padding-left: 1em; padding-right: 1em; text-align: center; vertical-align: top\">25</td>\n",
       "    </tr>\n",
       "    <tr>\n",
       "        <td style=\"padding-left: 1em; padding-right: 1em; text-align: center; vertical-align: top\">1</td>\n",
       "        <td style=\"padding-left: 1em; padding-right: 1em; text-align: center; vertical-align: top\">1</td>\n",
       "        <td style=\"padding-left: 1em; padding-right: 1em; text-align: center; vertical-align: top\">221</td>\n",
       "    </tr>\n",
       "    <tr>\n",
       "        <td style=\"padding-left: 1em; padding-right: 1em; text-align: center; vertical-align: top\">0</td>\n",
       "        <td style=\"padding-left: 1em; padding-right: 1em; text-align: center; vertical-align: top\">0</td>\n",
       "        <td style=\"padding-left: 1em; padding-right: 1em; text-align: center; vertical-align: top\">226</td>\n",
       "    </tr>\n",
       "    <tr>\n",
       "        <td style=\"padding-left: 1em; padding-right: 1em; text-align: center; vertical-align: top\">1</td>\n",
       "        <td style=\"padding-left: 1em; padding-right: 1em; text-align: center; vertical-align: top\">0</td>\n",
       "        <td style=\"padding-left: 1em; padding-right: 1em; text-align: center; vertical-align: top\">23</td>\n",
       "    </tr>\n",
       "</table>\n",
       "[4 rows x 3 columns]<br/>\n",
       "</div>"
      ],
      "text/plain": [
       "Columns:\n",
       "\ttarget_label\tint\n",
       "\tpredicted_label\tint\n",
       "\tcount\tint\n",
       "\n",
       "Rows: 4\n",
       "\n",
       "Data:\n",
       "+--------------+-----------------+-------+\n",
       "| target_label | predicted_label | count |\n",
       "+--------------+-----------------+-------+\n",
       "|      0       |        1        |   25  |\n",
       "|      1       |        1        |  221  |\n",
       "|      0       |        0        |  226  |\n",
       "|      1       |        0        |   23  |\n",
       "+--------------+-----------------+-------+\n",
       "[4 rows x 3 columns]"
      ]
     },
     "execution_count": 8,
     "metadata": {},
     "output_type": "execute_result"
    }
   ],
   "source": [
    "# Display confusion matrix for Model 1\n",
    "tc.evaluation.confusion_matrix(validation_data['Condition'], class_predictions_val_model1)"
   ]
  },
  {
   "cell_type": "code",
   "execution_count": 9,
   "id": "3a78d526-41eb-490f-bccc-72bdcac46ef3",
   "metadata": {},
   "outputs": [
    {
     "data": {
      "text/plain": [
       "0.9042553191489361"
      ]
     },
     "execution_count": 9,
     "metadata": {},
     "output_type": "execute_result"
    }
   ],
   "source": [
    "# Calculate and display Fβ score for Model 1\n",
    "tc.evaluation.fbeta_score(validation_data['Condition'], class_predictions_val_model1, beta=2.0)"
   ]
  },
  {
   "cell_type": "markdown",
   "id": "5de856cf-3537-4494-8871-5a57764a7197",
   "metadata": {},
   "source": [
    "#### For Model 2"
   ]
  },
  {
   "cell_type": "code",
   "execution_count": 10,
   "id": "521b5622-cae1-4552-9519-f9f67a797f58",
   "metadata": {},
   "outputs": [],
   "source": [
    "# Predictions for training and validation data using Model 2\n",
    "class_predictions_train_model2 = model2.predict(train_data, output_type='class')\n",
    "class_predictions_val_model2 = model2.predict(validation_data, output_type='class')"
   ]
  },
  {
   "cell_type": "code",
   "execution_count": 11,
   "id": "7f185eeb-df11-4dac-863d-05faacb4c910",
   "metadata": {},
   "outputs": [
    {
     "name": "stdout",
     "output_type": "stream",
     "text": [
      "Training Accuracy: 0.902970297029703\n",
      "Validation Accuracy: 0.9030303030303031\n"
     ]
    }
   ],
   "source": [
    "# Calculate training accuracy for Model 2\n",
    "train_accuracy_model2 = tc.evaluation.accuracy(train_data['Condition'], class_predictions_train_model2)\n",
    "print(f\"Training Accuracy: {train_accuracy_model2}\")\n",
    "\n",
    "# Calculate validation accuracy for Model 2\n",
    "val_accuracy_model2 = tc.evaluation.accuracy(validation_data['Condition'], class_predictions_val_model2)\n",
    "print(f\"Validation Accuracy: {val_accuracy_model2}\")"
   ]
  },
  {
   "cell_type": "code",
   "execution_count": 12,
   "id": "2a90dc63-2398-49e6-a09f-2f448aafb505",
   "metadata": {},
   "outputs": [
    {
     "data": {
      "text/html": [
       "<div style=\"max-height:1000px;max-width:1500px;overflow:auto;\"><table frame=\"box\" rules=\"cols\">\n",
       "    <tr>\n",
       "        <th style=\"padding-left: 1em; padding-right: 1em; text-align: center\">target_label</th>\n",
       "        <th style=\"padding-left: 1em; padding-right: 1em; text-align: center\">predicted_label</th>\n",
       "        <th style=\"padding-left: 1em; padding-right: 1em; text-align: center\">count</th>\n",
       "    </tr>\n",
       "    <tr>\n",
       "        <td style=\"padding-left: 1em; padding-right: 1em; text-align: center; vertical-align: top\">0</td>\n",
       "        <td style=\"padding-left: 1em; padding-right: 1em; text-align: center; vertical-align: top\">1</td>\n",
       "        <td style=\"padding-left: 1em; padding-right: 1em; text-align: center; vertical-align: top\">25</td>\n",
       "    </tr>\n",
       "    <tr>\n",
       "        <td style=\"padding-left: 1em; padding-right: 1em; text-align: center; vertical-align: top\">1</td>\n",
       "        <td style=\"padding-left: 1em; padding-right: 1em; text-align: center; vertical-align: top\">1</td>\n",
       "        <td style=\"padding-left: 1em; padding-right: 1em; text-align: center; vertical-align: top\">221</td>\n",
       "    </tr>\n",
       "    <tr>\n",
       "        <td style=\"padding-left: 1em; padding-right: 1em; text-align: center; vertical-align: top\">0</td>\n",
       "        <td style=\"padding-left: 1em; padding-right: 1em; text-align: center; vertical-align: top\">0</td>\n",
       "        <td style=\"padding-left: 1em; padding-right: 1em; text-align: center; vertical-align: top\">226</td>\n",
       "    </tr>\n",
       "    <tr>\n",
       "        <td style=\"padding-left: 1em; padding-right: 1em; text-align: center; vertical-align: top\">1</td>\n",
       "        <td style=\"padding-left: 1em; padding-right: 1em; text-align: center; vertical-align: top\">0</td>\n",
       "        <td style=\"padding-left: 1em; padding-right: 1em; text-align: center; vertical-align: top\">23</td>\n",
       "    </tr>\n",
       "</table>\n",
       "[4 rows x 3 columns]<br/>\n",
       "</div>"
      ],
      "text/plain": [
       "Columns:\n",
       "\ttarget_label\tint\n",
       "\tpredicted_label\tint\n",
       "\tcount\tint\n",
       "\n",
       "Rows: 4\n",
       "\n",
       "Data:\n",
       "+--------------+-----------------+-------+\n",
       "| target_label | predicted_label | count |\n",
       "+--------------+-----------------+-------+\n",
       "|      0       |        1        |   25  |\n",
       "|      1       |        1        |  221  |\n",
       "|      0       |        0        |  226  |\n",
       "|      1       |        0        |   23  |\n",
       "+--------------+-----------------+-------+\n",
       "[4 rows x 3 columns]"
      ]
     },
     "execution_count": 12,
     "metadata": {},
     "output_type": "execute_result"
    }
   ],
   "source": [
    "# Display confusion matrix for Model 2\n",
    "tc.evaluation.confusion_matrix(validation_data['Condition'], class_predictions_val_model2)"
   ]
  },
  {
   "cell_type": "code",
   "execution_count": 13,
   "id": "0d287033-32c2-4bb0-9c31-f33eef99ae65",
   "metadata": {},
   "outputs": [
    {
     "data": {
      "text/plain": [
       "0.9042553191489361"
      ]
     },
     "execution_count": 13,
     "metadata": {},
     "output_type": "execute_result"
    }
   ],
   "source": [
    "# Calculate and display Fβ score for Model 2\n",
    "tc.evaluation.fbeta_score(validation_data['Condition'], class_predictions_val_model2, beta=2.0)"
   ]
  },
  {
   "cell_type": "markdown",
   "id": "99678ebf-b111-45da-b661-80629e89cca0",
   "metadata": {},
   "source": [
    "### 6) [1 mark] Select which of your two models is the best (or declare a tie) and justify your choice by commenting on metrics and the confusion matrix."
   ]
  },
  {
   "cell_type": "markdown",
   "id": "a9a008db-6152-4177-b736-90afbda4752b",
   "metadata": {},
   "source": [
    "- In terms of training accuracy, validation accuracy, and other evaluation metrics including precision, recall, and Fβ score, both Models 1 and 2 perform similarly. Additionally, there are no appreciable differences between the two models' confusion matrices in terms of their capacity to accurately identify instances and manage false positives and false negatives.\n",
    "\n",
    "- It is challenging to say with certainty one model is superior to the other because of the similarity in performance across different metrics and the lack of noticeable differences in the confusion matrices. Thus, we conclude that Models 1 and 2 are tied."
   ]
  },
  {
   "cell_type": "markdown",
   "id": "09e2dbcd-1b27-4cac-9249-1c6e6fb97f83",
   "metadata": {
    "tags": []
   },
   "source": [
    "### 7) [2 marks] Using the test set and your choice of best model:\n",
    "#### i) calculate and display the accuracy;\n",
    "#### ii) display the confusion matrix;\n",
    "#### iii) calculate and display recall, precision, and Fβ score."
   ]
  },
  {
   "cell_type": "code",
   "execution_count": 14,
   "id": "d2ab3a93-fbd4-44e0-abc7-ed7c7659bddb",
   "metadata": {},
   "outputs": [],
   "source": [
    "# Make predictions on the test set using Model 2 (my best choice of model)\n",
    "prediction_test_model = model2.predict(test_data, output_type='class')"
   ]
  },
  {
   "cell_type": "code",
   "execution_count": 15,
   "id": "439b80e8-6857-48fb-8dff-5c55253219dd",
   "metadata": {},
   "outputs": [
    {
     "data": {
      "text/plain": [
       "0.8781725888324873"
      ]
     },
     "execution_count": 15,
     "metadata": {},
     "output_type": "execute_result"
    }
   ],
   "source": [
    "# Calculate and display accuracy on the test set\n",
    "tc.evaluation.accuracy(test_data['Condition'], prediction_test_model)"
   ]
  },
  {
   "cell_type": "code",
   "execution_count": 16,
   "id": "edc41ffa-ec62-4471-9aff-b73baf3ff524",
   "metadata": {},
   "outputs": [
    {
     "data": {
      "text/html": [
       "<div style=\"max-height:1000px;max-width:1500px;overflow:auto;\"><table frame=\"box\" rules=\"cols\">\n",
       "    <tr>\n",
       "        <th style=\"padding-left: 1em; padding-right: 1em; text-align: center\">target_label</th>\n",
       "        <th style=\"padding-left: 1em; padding-right: 1em; text-align: center\">predicted_label</th>\n",
       "        <th style=\"padding-left: 1em; padding-right: 1em; text-align: center\">count</th>\n",
       "    </tr>\n",
       "    <tr>\n",
       "        <td style=\"padding-left: 1em; padding-right: 1em; text-align: center; vertical-align: top\">1</td>\n",
       "        <td style=\"padding-left: 1em; padding-right: 1em; text-align: center; vertical-align: top\">1</td>\n",
       "        <td style=\"padding-left: 1em; padding-right: 1em; text-align: center; vertical-align: top\">85</td>\n",
       "    </tr>\n",
       "    <tr>\n",
       "        <td style=\"padding-left: 1em; padding-right: 1em; text-align: center; vertical-align: top\">0</td>\n",
       "        <td style=\"padding-left: 1em; padding-right: 1em; text-align: center; vertical-align: top\">1</td>\n",
       "        <td style=\"padding-left: 1em; padding-right: 1em; text-align: center; vertical-align: top\">11</td>\n",
       "    </tr>\n",
       "    <tr>\n",
       "        <td style=\"padding-left: 1em; padding-right: 1em; text-align: center; vertical-align: top\">0</td>\n",
       "        <td style=\"padding-left: 1em; padding-right: 1em; text-align: center; vertical-align: top\">0</td>\n",
       "        <td style=\"padding-left: 1em; padding-right: 1em; text-align: center; vertical-align: top\">88</td>\n",
       "    </tr>\n",
       "    <tr>\n",
       "        <td style=\"padding-left: 1em; padding-right: 1em; text-align: center; vertical-align: top\">1</td>\n",
       "        <td style=\"padding-left: 1em; padding-right: 1em; text-align: center; vertical-align: top\">0</td>\n",
       "        <td style=\"padding-left: 1em; padding-right: 1em; text-align: center; vertical-align: top\">13</td>\n",
       "    </tr>\n",
       "</table>\n",
       "[4 rows x 3 columns]<br/>\n",
       "</div>"
      ],
      "text/plain": [
       "Columns:\n",
       "\ttarget_label\tint\n",
       "\tpredicted_label\tint\n",
       "\tcount\tint\n",
       "\n",
       "Rows: 4\n",
       "\n",
       "Data:\n",
       "+--------------+-----------------+-------+\n",
       "| target_label | predicted_label | count |\n",
       "+--------------+-----------------+-------+\n",
       "|      1       |        1        |   85  |\n",
       "|      0       |        1        |   11  |\n",
       "|      0       |        0        |   88  |\n",
       "|      1       |        0        |   13  |\n",
       "+--------------+-----------------+-------+\n",
       "[4 rows x 3 columns]"
      ]
     },
     "execution_count": 16,
     "metadata": {},
     "output_type": "execute_result"
    }
   ],
   "source": [
    "# Display confusion matrix for the test set\n",
    "tc.evaluation.confusion_matrix(test_data['Condition'], prediction_test_model)"
   ]
  },
  {
   "cell_type": "code",
   "execution_count": 17,
   "id": "f6204ae6-e3ac-4a20-ab5f-5e480754440b",
   "metadata": {},
   "outputs": [
    {
     "data": {
      "text/plain": [
       "0.8709016393442623"
      ]
     },
     "execution_count": 17,
     "metadata": {},
     "output_type": "execute_result"
    }
   ],
   "source": [
    "# Calculate and display Fβ score for the test set\n",
    "tc.evaluation.fbeta_score(test_data['Condition'], prediction_test_model, beta=2.0)"
   ]
  },
  {
   "cell_type": "markdown",
   "id": "ffdf5d8f-71ab-4369-955f-3fd0cc670130",
   "metadata": {},
   "source": [
    "#### Contributions"
   ]
  },
  {
   "cell_type": "code",
   "execution_count": null,
   "id": "f4e3d026-ee82-44c7-960e-361c3b29629a",
   "metadata": {},
   "outputs": [],
   "source": []
  }
 ],
 "metadata": {
  "kernelspec": {
   "display_name": "Python 3 (ipykernel)",
   "language": "python",
   "name": "python3"
  },
  "language_info": {
   "codemirror_mode": {
    "name": "ipython",
    "version": 3
   },
   "file_extension": ".py",
   "mimetype": "text/x-python",
   "name": "python",
   "nbconvert_exporter": "python",
   "pygments_lexer": "ipython3",
   "version": "3.7.16"
  }
 },
 "nbformat": 4,
 "nbformat_minor": 5
}

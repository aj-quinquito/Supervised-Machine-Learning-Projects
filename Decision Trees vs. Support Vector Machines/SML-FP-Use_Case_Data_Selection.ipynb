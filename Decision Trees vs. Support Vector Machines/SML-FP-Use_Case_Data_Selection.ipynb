{
 "cells": [
  {
   "cell_type": "markdown",
   "id": "0430dae6-4720-45f9-bf5c-a58a8c7d8403",
   "metadata": {},
   "source": [
    "## <span style=\"color:blue;\">Requirements</span>"
   ]
  },
  {
   "cell_type": "markdown",
   "id": "7a89fe12-e90c-4cb3-90f6-38984bb24fea",
   "metadata": {},
   "source": [
    "#### Realistic Use Case: Sentiment Analysis of Product Reviews"
   ]
  },
  {
   "cell_type": "markdown",
   "id": "11f390b8-c1de-4032-be52-6794c82217ed",
   "metadata": {},
   "source": [
    "Developing a model with the provided dataset holds significant importance across various industries, including media, social media, and business sectors. This model plays a big role in upholding the credibility of information disseminated online by efficiently detecting and combatting the proliferation of misinformation. Analysts, data scientists, and machine learning experts leverage the model to devise algorithms for automatically identifying and categorizing false news. Additionally, fact-checkers and journalists utilize these algorithms to authenticate news pieces prior to publication. Crucial data elements such as news headlines, URLs, sources, and publication dates are inputted into the model. Through continuous batch or real-time analysis, the model identifies potential inaccuracies for further human scrutiny. Its predictions serve as crucial alerts, enabling media outlets and social media platforms to promptly verify or remove deceptive content, thus curbing its dissemination.ip\", and \"no-flip\""
   ]
  },
  {
   "cell_type": "markdown",
   "id": "b11f2b71-56ef-4ed4-900c-8d637864f9a5",
   "metadata": {},
   "source": [
    "##### The provided labels represent different levels of truthfulness or accuracy of news articles:\n",
    "1. FALSE: Articles that are entirely fabricated or contain significant inaccuracies, deliberately misleading the audience.\n",
    "2. barely-true: Articles that contain some elements of truth but are mostly inaccurate or misleading. The information presented may be distorted or taken out of context.\n",
    "3. mostly-true: Articles that are mostly accurate but may contain minor inaccuracies or exaggerations.\n",
    "4. half-true: Articles that present information that is partially accurate but also contains significant omissions or distortions.\n",
    "5. pants-fire: Articles that are not only false but also absurd or outrageous, often intended to deceive and manipulate.\n",
    "6. TRUE: Articles that are verified to be accurate and based on factual information.\n",
    "7. full-flop: Articles that were initially presented as true but later proven to be entirely false.\n",
    "8. half-flip: Articles that were initially presented as partially true but later proven to be mostly false.\n",
    "9. no-flip: Articles that remain consistently accurate throughout scrutiny or investigation, without any significant inaccuracies or distortions."
   ]
  },
  {
   "cell_type": "markdown",
   "id": "df77a452-98f6-41d3-9cf9-4ceb13f2cf0f",
   "metadata": {},
   "source": [
    "##### Classes:\n",
    "1. News Headline (Text):\n",
    "    - Description: The headline or main piece of information extracted from various news articles.\n",
    "    - Type: Text (string)\n",
    "\n",
    "2. Link of News (Text):\n",
    "    - Description: The URL or link to the original news article from which the headline was extracted.\n",
    "    - Type: Text (string)\n",
    "\n",
    "3. Source (Categorical):\n",
    "    - Description: The author or source of the news headline.\n",
    "    - Type: Categorical (string)\n",
    "\n",
    "4. Date (Date):\n",
    "    - Description: The date when the piece of information is posted and was analyzed by the fact-checkers.\n",
    "    - Type: Date"
   ]
  },
  {
   "cell_type": "markdown",
   "id": "35f0fcb6-0bd7-4b58-96c0-c13810fbdec8",
   "metadata": {},
   "source": [
    "#### <span style=\"color:blue;\">Discussion of prediction errors.</span>"
   ]
  },
  {
   "cell_type": "markdown",
   "id": "19433537-a454-40c9-82b9-613cb1035c6b",
   "metadata": {},
   "source": [
    "In the context of the provided multiclass classification problem with various truthfulness labels (TRUE, mostly-true, half-true, barely-true, FALSE, pants-fire, full-flop, half-flip, no-flip), it's crucial to consider the implications of different types of prediction errors.\n",
    "\n",
    "Given the nature of the problem, where the goal is to identify and combat misinformation, some prediction errors may be more detrimental than others. For instance, predicting \"FALSE\" when the true label is \"TRUE\" or any other degree of truthfulness (mostly-true, half-true, barely-true) would be considered a severe error. This false negative error could result in misinformation being allowed to spread unchecked, undermining the credibility of the platform or media outlet.\n",
    "\n",
    "Similarly, predicting \"TRUE\" or any degree of truthfulness when the true label is \"FALSE\" or \"pants-fire\" would also be highly undesirable. This false positive error may lead to the dissemination of false information, eroding trust in the platform or media outlet's content moderation efforts.\n",
    "\n",
    "Therefore, in this particular use case, false negatives and false positives for classes indicating misinformation (e.g., FALSE, pants-fire) are especially problematic and should be minimized. While all errors are significant, prioritizing the reduction of false negatives and false positives for misinformation classes can help mitigate the spread of false information and uphold the integrity of the platform or media outlet."
   ]
  },
  {
   "cell_type": "code",
   "execution_count": 1,
   "id": "544d1fc5-ad7a-4b44-8860-092b26abbfd3",
   "metadata": {},
   "outputs": [],
   "source": [
    "import pandas as pd\n",
    "import matplotlib.pyplot as plt\n",
    "import re\n",
    "import turicreate as tc"
   ]
  },
  {
   "cell_type": "code",
   "execution_count": 2,
   "id": "edcb7960-f501-4a45-9f5f-5a54d8d92d16",
   "metadata": {},
   "outputs": [
    {
     "data": {
      "text/html": [
       "<div>\n",
       "<style scoped>\n",
       "    .dataframe tbody tr th:only-of-type {\n",
       "        vertical-align: middle;\n",
       "    }\n",
       "\n",
       "    .dataframe tbody tr th {\n",
       "        vertical-align: top;\n",
       "    }\n",
       "\n",
       "    .dataframe thead th {\n",
       "        text-align: right;\n",
       "    }\n",
       "</style>\n",
       "<table border=\"1\" class=\"dataframe\">\n",
       "  <thead>\n",
       "    <tr style=\"text-align: right;\">\n",
       "      <th></th>\n",
       "      <th>News_Headline</th>\n",
       "      <th>Link_Of_News</th>\n",
       "      <th>Source</th>\n",
       "      <th>Stated_On</th>\n",
       "      <th>Date</th>\n",
       "      <th>Label</th>\n",
       "    </tr>\n",
       "  </thead>\n",
       "  <tbody>\n",
       "    <tr>\n",
       "      <th>0</th>\n",
       "      <td>Says Osama bin Laden endorsed Joe Biden</td>\n",
       "      <td>https://www.politifact.com/factchecks/2020/jun...</td>\n",
       "      <td>Donald Trump Jr.</td>\n",
       "      <td>June 18, 2020</td>\n",
       "      <td>June 19, 2020</td>\n",
       "      <td>FALSE</td>\n",
       "    </tr>\n",
       "    <tr>\n",
       "      <th>1</th>\n",
       "      <td>CNN aired a video of a toddler running away fr...</td>\n",
       "      <td>https://www.politifact.com/factchecks/2020/jun...</td>\n",
       "      <td>Donald Trump</td>\n",
       "      <td>June 18, 2020</td>\n",
       "      <td>June 19, 2020</td>\n",
       "      <td>pants-fire</td>\n",
       "    </tr>\n",
       "    <tr>\n",
       "      <th>2</th>\n",
       "      <td>Says Tim Tebow “kneeled in protest of abortion...</td>\n",
       "      <td>https://www.politifact.com/factchecks/2020/jun...</td>\n",
       "      <td>Facebook posts</td>\n",
       "      <td>June 12, 2020</td>\n",
       "      <td>June 19, 2020</td>\n",
       "      <td>FALSE</td>\n",
       "    </tr>\n",
       "    <tr>\n",
       "      <th>3</th>\n",
       "      <td>“Even so-called moderate Democrats like Joe Bi...</td>\n",
       "      <td>https://www.politifact.com/factchecks/2020/jun...</td>\n",
       "      <td>Paul Junge</td>\n",
       "      <td>June 10, 2020</td>\n",
       "      <td>June 19, 2020</td>\n",
       "      <td>barely-true</td>\n",
       "    </tr>\n",
       "    <tr>\n",
       "      <th>4</th>\n",
       "      <td>\"Our health department, our city and our count...</td>\n",
       "      <td>https://www.politifact.com/factchecks/2020/jun...</td>\n",
       "      <td>Jeanette Kowalik</td>\n",
       "      <td>June 14, 2020</td>\n",
       "      <td>June 18, 2020</td>\n",
       "      <td>TRUE</td>\n",
       "    </tr>\n",
       "    <tr>\n",
       "      <th>...</th>\n",
       "      <td>...</td>\n",
       "      <td>...</td>\n",
       "      <td>...</td>\n",
       "      <td>...</td>\n",
       "      <td>...</td>\n",
       "      <td>...</td>\n",
       "    </tr>\n",
       "    <tr>\n",
       "      <th>9955</th>\n",
       "      <td>Says the Obama administration plans to reduce ...</td>\n",
       "      <td>https://www.politifact.com/factchecks/2013/jun...</td>\n",
       "      <td>Michael McCaul</td>\n",
       "      <td>June 5, 2013</td>\n",
       "      <td>June 21, 2013</td>\n",
       "      <td>barely-true</td>\n",
       "    </tr>\n",
       "    <tr>\n",
       "      <th>9956</th>\n",
       "      <td>The Foreign Intelligence Surveillance Court \"i...</td>\n",
       "      <td>https://www.politifact.com/factchecks/2013/jun...</td>\n",
       "      <td>Barack Obama</td>\n",
       "      <td>June 17, 2013</td>\n",
       "      <td>June 21, 2013</td>\n",
       "      <td>pants-fire</td>\n",
       "    </tr>\n",
       "    <tr>\n",
       "      <th>9957</th>\n",
       "      <td>\"In the past four years, (the U.S. Senate) has...</td>\n",
       "      <td>https://www.politifact.com/factchecks/2013/jun...</td>\n",
       "      <td>Jack Kingston</td>\n",
       "      <td>May 2, 2013 i</td>\n",
       "      <td>June 21, 2013</td>\n",
       "      <td>mostly-true</td>\n",
       "    </tr>\n",
       "    <tr>\n",
       "      <th>9958</th>\n",
       "      <td>On immigration reform, Marco Rubio \"all along ...</td>\n",
       "      <td>https://www.politifact.com/factchecks/2013/jun...</td>\n",
       "      <td>Dana Rohrabacher</td>\n",
       "      <td>June 16, 2013</td>\n",
       "      <td>June 20, 2013</td>\n",
       "      <td>barely-true</td>\n",
       "    </tr>\n",
       "    <tr>\n",
       "      <th>9959</th>\n",
       "      <td>\"Since Newtown, more people have died at the e...</td>\n",
       "      <td>https://www.politifact.com/factchecks/2013/jun...</td>\n",
       "      <td>Joe Biden</td>\n",
       "      <td>June 18, 2013</td>\n",
       "      <td>June 20, 2013</td>\n",
       "      <td>TRUE</td>\n",
       "    </tr>\n",
       "  </tbody>\n",
       "</table>\n",
       "<p>9960 rows × 6 columns</p>\n",
       "</div>"
      ],
      "text/plain": [
       "                                          News_Headline  \\\n",
       "0               Says Osama bin Laden endorsed Joe Biden   \n",
       "1     CNN aired a video of a toddler running away fr...   \n",
       "2     Says Tim Tebow “kneeled in protest of abortion...   \n",
       "3     “Even so-called moderate Democrats like Joe Bi...   \n",
       "4     \"Our health department, our city and our count...   \n",
       "...                                                 ...   \n",
       "9955  Says the Obama administration plans to reduce ...   \n",
       "9956  The Foreign Intelligence Surveillance Court \"i...   \n",
       "9957  \"In the past four years, (the U.S. Senate) has...   \n",
       "9958  On immigration reform, Marco Rubio \"all along ...   \n",
       "9959  \"Since Newtown, more people have died at the e...   \n",
       "\n",
       "                                           Link_Of_News            Source  \\\n",
       "0     https://www.politifact.com/factchecks/2020/jun...  Donald Trump Jr.   \n",
       "1     https://www.politifact.com/factchecks/2020/jun...      Donald Trump   \n",
       "2     https://www.politifact.com/factchecks/2020/jun...    Facebook posts   \n",
       "3     https://www.politifact.com/factchecks/2020/jun...        Paul Junge   \n",
       "4     https://www.politifact.com/factchecks/2020/jun...  Jeanette Kowalik   \n",
       "...                                                 ...               ...   \n",
       "9955  https://www.politifact.com/factchecks/2013/jun...    Michael McCaul   \n",
       "9956  https://www.politifact.com/factchecks/2013/jun...      Barack Obama   \n",
       "9957  https://www.politifact.com/factchecks/2013/jun...     Jack Kingston   \n",
       "9958  https://www.politifact.com/factchecks/2013/jun...  Dana Rohrabacher   \n",
       "9959  https://www.politifact.com/factchecks/2013/jun...         Joe Biden   \n",
       "\n",
       "           Stated_On            Date        Label  \n",
       "0      June 18, 2020   June 19, 2020        FALSE  \n",
       "1      June 18, 2020   June 19, 2020   pants-fire  \n",
       "2      June 12, 2020   June 19, 2020        FALSE  \n",
       "3      June 10, 2020   June 19, 2020  barely-true  \n",
       "4      June 14, 2020   June 18, 2020         TRUE  \n",
       "...              ...             ...          ...  \n",
       "9955   June 5, 2013    June 21, 2013  barely-true  \n",
       "9956   June 17, 2013   June 21, 2013   pants-fire  \n",
       "9957   May 2, 2013 i   June 21, 2013  mostly-true  \n",
       "9958   June 16, 2013   June 20, 2013  barely-true  \n",
       "9959   June 18, 2013   June 20, 2013         TRUE  \n",
       "\n",
       "[9960 rows x 6 columns]"
      ]
     },
     "execution_count": 2,
     "metadata": {},
     "output_type": "execute_result"
    }
   ],
   "source": [
    "# Load the dataset\n",
    "df = pd.read_csv('Fake-Real-News.csv')\n",
    "df"
   ]
  },
  {
   "cell_type": "code",
   "execution_count": 3,
   "id": "8a6cea81-4a70-434b-aa73-21cfbe871719",
   "metadata": {},
   "outputs": [
    {
     "name": "stdout",
     "output_type": "stream",
     "text": [
      "<class 'pandas.core.frame.DataFrame'>\n",
      "RangeIndex: 9960 entries, 0 to 9959\n",
      "Data columns (total 6 columns):\n",
      " #   Column         Non-Null Count  Dtype \n",
      "---  ------         --------------  ----- \n",
      " 0   News_Headline  9960 non-null   object\n",
      " 1   Link_Of_News   9960 non-null   object\n",
      " 2   Source         9960 non-null   object\n",
      " 3   Stated_On      9960 non-null   object\n",
      " 4   Date           9960 non-null   object\n",
      " 5   Label          9960 non-null   object\n",
      "dtypes: object(6)\n",
      "memory usage: 467.0+ KB\n"
     ]
    }
   ],
   "source": [
    "df.info()"
   ]
  },
  {
   "cell_type": "markdown",
   "id": "6bc7ad1d-70b3-41d0-9fba-acc7c80f01c8",
   "metadata": {},
   "source": [
    "#### <span style=\"color:blue;\">Data Cleaning</span>"
   ]
  },
  {
   "cell_type": "code",
   "execution_count": 4,
   "id": "f7c766db-9dcc-4866-abba-936fad0911c9",
   "metadata": {},
   "outputs": [],
   "source": [
    "# Drop duplicate headlines while keeping the first occurrence\n",
    "df_cleaned = df.drop_duplicates(subset='News_Headline', keep='first')"
   ]
  },
  {
   "cell_type": "code",
   "execution_count": 5,
   "id": "fcfc0bc0-e4b6-47d5-ac47-72719c4be057",
   "metadata": {},
   "outputs": [],
   "source": [
    "# Drop the 'Stated_On' column\n",
    "df_cleaned = df.drop(columns=['Stated_On'])"
   ]
  },
  {
   "cell_type": "code",
   "execution_count": 6,
   "id": "5da9ced8-e68a-4d19-80d3-342cafb48669",
   "metadata": {},
   "outputs": [],
   "source": [
    "# Create a Turi Create SFrame from the pandas DataFrame\n",
    "sf = tc.SFrame(df_cleaned)"
   ]
  },
  {
   "cell_type": "code",
   "execution_count": 7,
   "id": "eaa998ec-613e-4eb2-bf0c-160608571997",
   "metadata": {},
   "outputs": [],
   "source": [
    "# make a list of stopwords\n",
    "stopwords = tc.text_analytics.stop_words()"
   ]
  },
  {
   "cell_type": "code",
   "execution_count": 8,
   "id": "1fa97f62-428b-46af-b5db-c4d60438f0a7",
   "metadata": {},
   "outputs": [],
   "source": [
    "# This function cleans a single text.\n",
    "def clean_text(text):\n",
    "    # remove html tags\n",
    "    text = re.sub('<.{1,4}>', '', text)\n",
    "    \n",
    "    # remove punctuation \n",
    "    text = re.sub('[^\\w^\\s\\n]', ' ', text)\n",
    "    \n",
    "    # remove numbers\n",
    "    text = re.sub(\"\\d\", \"\", text)\n",
    "    \n",
    "    # make everything lowercase\n",
    "    text = text.lower()\n",
    "    \n",
    "    # remove words with one to two characters\n",
    "    text = re.sub('\\\\b\\w{1,2}\\\\b', '', text)\n",
    "    \n",
    "    # remove stopwords\n",
    "    for word in stopwords:\n",
    "        text = re.sub('\\\\b' + word + '\\\\b', '', text)\n",
    "    \n",
    "    return text"
   ]
  },
  {
   "cell_type": "code",
   "execution_count": 9,
   "id": "2e591af1-c53f-4814-a80f-026695da2836",
   "metadata": {},
   "outputs": [
    {
     "data": {
      "text/html": [
       "<pre>Using default 16 lambda workers.</pre>"
      ],
      "text/plain": [
       "Using default 16 lambda workers."
      ]
     },
     "metadata": {},
     "output_type": "display_data"
    },
    {
     "data": {
      "text/html": [
       "<pre>To maximize the degree of parallelism, add the following code to the beginning of the program:</pre>"
      ],
      "text/plain": [
       "To maximize the degree of parallelism, add the following code to the beginning of the program:"
      ]
     },
     "metadata": {},
     "output_type": "display_data"
    },
    {
     "data": {
      "text/html": [
       "<pre>\"turicreate.config.set_runtime_config('TURI_DEFAULT_NUM_PYLAMBDA_WORKERS', 24)\"</pre>"
      ],
      "text/plain": [
       "\"turicreate.config.set_runtime_config('TURI_DEFAULT_NUM_PYLAMBDA_WORKERS', 24)\""
      ]
     },
     "metadata": {},
     "output_type": "display_data"
    },
    {
     "data": {
      "text/html": [
       "<pre>Note that increasing the degree of parallelism also increases the memory footprint.</pre>"
      ],
      "text/plain": [
       "Note that increasing the degree of parallelism also increases the memory footprint."
      ]
     },
     "metadata": {},
     "output_type": "display_data"
    }
   ],
   "source": [
    "# applying the clean_text_with_stopwords() function to each row of the SFrame\n",
    "sf['Clean_News_Headline'] = sf['News_Headline'].apply(clean_text)\n",
    "sf['Clean_Source'] = sf['Source'].apply(clean_text)"
   ]
  },
  {
   "cell_type": "code",
   "execution_count": 10,
   "id": "422ff7f9-384a-4276-af81-beb516e22cc0",
   "metadata": {},
   "outputs": [],
   "source": [
    "# counting words and adding word-count dictionary to SFrame\n",
    "sf['Clean_News_Headline'] = tc.text_analytics.count_words(sf['Clean_News_Headline'])\n",
    "sf['Clean_Source'] = tc.text_analytics.count_words(sf['Clean_Source'])"
   ]
  },
  {
   "cell_type": "code",
   "execution_count": 11,
   "id": "25291b95-6d01-4492-a78c-8693c6330453",
   "metadata": {},
   "outputs": [
    {
     "data": {
      "text/html": [
       "<div style=\"max-height:1000px;max-width:1500px;overflow:auto;\"><table frame=\"box\" rules=\"cols\">\n",
       "    <tr>\n",
       "        <th style=\"padding-left: 1em; padding-right: 1em; text-align: center\">Clean_News_Headline</th>\n",
       "        <th style=\"padding-left: 1em; padding-right: 1em; text-align: center\">Clean_Source</th>\n",
       "        <th style=\"padding-left: 1em; padding-right: 1em; text-align: center\">Label</th>\n",
       "        <th style=\"padding-left: 1em; padding-right: 1em; text-align: center\">News_Headline</th>\n",
       "        <th style=\"padding-left: 1em; padding-right: 1em; text-align: center\">Source</th>\n",
       "    </tr>\n",
       "    <tr>\n",
       "        <td style=\"padding-left: 1em; padding-right: 1em; text-align: center; vertical-align: top\">{&#x27;biden&#x27;: 1.0, &#x27;joe&#x27;:<br>1.0, &#x27;endorsed&#x27;: 1.0, ...</td>\n",
       "        <td style=\"padding-left: 1em; padding-right: 1em; text-align: center; vertical-align: top\">{&#x27;trump&#x27;: 1.0, &#x27;donald&#x27;:<br>1.0} ...</td>\n",
       "        <td style=\"padding-left: 1em; padding-right: 1em; text-align: center; vertical-align: top\">FALSE</td>\n",
       "        <td style=\"padding-left: 1em; padding-right: 1em; text-align: center; vertical-align: top\">6.0</td>\n",
       "        <td style=\"padding-left: 1em; padding-right: 1em; text-align: center; vertical-align: top\">2.0</td>\n",
       "    </tr>\n",
       "    <tr>\n",
       "        <td style=\"padding-left: 1em; padding-right: 1em; text-align: center; vertical-align: top\">{&#x27;trump&#x27;: 1.0, &#x27;cnn&#x27;:<br>1.0, &#x27;voted&#x27;: 1.0, ...</td>\n",
       "        <td style=\"padding-left: 1em; padding-right: 1em; text-align: center; vertical-align: top\">{&#x27;trump&#x27;: 1.0, &#x27;donald&#x27;:<br>1.0} ...</td>\n",
       "        <td style=\"padding-left: 1em; padding-right: 1em; text-align: center; vertical-align: top\">pants-fire</td>\n",
       "        <td style=\"padding-left: 1em; padding-right: 1em; text-align: center; vertical-align: top\">16.0</td>\n",
       "        <td style=\"padding-left: 1em; padding-right: 1em; text-align: center; vertical-align: top\">2.0</td>\n",
       "    </tr>\n",
       "    <tr>\n",
       "        <td style=\"padding-left: 1em; padding-right: 1em; text-align: center; vertical-align: top\">{&#x27;model&#x27;: 1.0,<br>&#x27;american&#x27;: 1.0, &#x27;fans&#x27;: ...</td>\n",
       "        <td style=\"padding-left: 1em; padding-right: 1em; text-align: center; vertical-align: top\">{&#x27;posts&#x27;: 1.0,<br>&#x27;facebook&#x27;: 1.0} ...</td>\n",
       "        <td style=\"padding-left: 1em; padding-right: 1em; text-align: center; vertical-align: top\">FALSE</td>\n",
       "        <td style=\"padding-left: 1em; padding-right: 1em; text-align: center; vertical-align: top\">11.0</td>\n",
       "        <td style=\"padding-left: 1em; padding-right: 1em; text-align: center; vertical-align: top\">2.0</td>\n",
       "    </tr>\n",
       "    <tr>\n",
       "        <td style=\"padding-left: 1em; padding-right: 1em; text-align: center; vertical-align: top\">{&#x27;years&#x27;: 1.0, &#x27;gross&#x27;:<br>1.0, &#x27;state&#x27;: 1.0, ...</td>\n",
       "        <td style=\"padding-left: 1em; padding-right: 1em; text-align: center; vertical-align: top\">{&#x27;junge&#x27;: 1.0, &#x27;paul&#x27;:<br>1.0} ...</td>\n",
       "        <td style=\"padding-left: 1em; padding-right: 1em; text-align: center; vertical-align: top\">barely-true</td>\n",
       "        <td style=\"padding-left: 1em; padding-right: 1em; text-align: center; vertical-align: top\">18.0</td>\n",
       "        <td style=\"padding-left: 1em; padding-right: 1em; text-align: center; vertical-align: top\">2.0</td>\n",
       "    </tr>\n",
       "    <tr>\n",
       "        <td style=\"padding-left: 1em; padding-right: 1em; text-align: center; vertical-align: top\">{&#x27;year&#x27;: 1.0, &#x27;crisis&#x27;:<br>1.0, &#x27;racism&#x27;: 1.0, ...</td>\n",
       "        <td style=\"padding-left: 1em; padding-right: 1em; text-align: center; vertical-align: top\">{&#x27;kowalik&#x27;: 1.0,<br>&#x27;jeanette&#x27;: 1.0} ...</td>\n",
       "        <td style=\"padding-left: 1em; padding-right: 1em; text-align: center; vertical-align: top\">TRUE</td>\n",
       "        <td style=\"padding-left: 1em; padding-right: 1em; text-align: center; vertical-align: top\">10.0</td>\n",
       "        <td style=\"padding-left: 1em; padding-right: 1em; text-align: center; vertical-align: top\">2.0</td>\n",
       "    </tr>\n",
       "    <tr>\n",
       "        <td style=\"padding-left: 1em; padding-right: 1em; text-align: center; vertical-align: top\">{&#x27;juneteenth&#x27;: 1.0,<br>&#x27;heard&#x27;: 1.0, &#x27;june&#x27;: ...</td>\n",
       "        <td style=\"padding-left: 1em; padding-right: 1em; text-align: center; vertical-align: top\">{&#x27;trump&#x27;: 1.0, &#x27;donald&#x27;:<br>1.0} ...</td>\n",
       "        <td style=\"padding-left: 1em; padding-right: 1em; text-align: center; vertical-align: top\">pants-fire</td>\n",
       "        <td style=\"padding-left: 1em; padding-right: 1em; text-align: center; vertical-align: top\">5.0</td>\n",
       "        <td style=\"padding-left: 1em; padding-right: 1em; text-align: center; vertical-align: top\">2.0</td>\n",
       "    </tr>\n",
       "    <tr>\n",
       "        <td style=\"padding-left: 1em; padding-right: 1em; text-align: center; vertical-align: top\">{&#x27;republican&#x27;: 1.0,<br>&#x27;vote&#x27;: 1.0, &#x27;voters&#x27;: ...</td>\n",
       "        <td style=\"padding-left: 1em; padding-right: 1em; text-align: center; vertical-align: top\">{&#x27;posts&#x27;: 1.0,<br>&#x27;facebook&#x27;: 1.0} ...</td>\n",
       "        <td style=\"padding-left: 1em; padding-right: 1em; text-align: center; vertical-align: top\">FALSE</td>\n",
       "        <td style=\"padding-left: 1em; padding-right: 1em; text-align: center; vertical-align: top\">6.0</td>\n",
       "        <td style=\"padding-left: 1em; padding-right: 1em; text-align: center; vertical-align: top\">2.0</td>\n",
       "    </tr>\n",
       "    <tr>\n",
       "        <td style=\"padding-left: 1em; padding-right: 1em; text-align: center; vertical-align: top\">{&#x27;supplies&#x27;: 1.0,<br>&#x27;demanding&#x27;: 1.0, ...</td>\n",
       "        <td style=\"padding-left: 1em; padding-right: 1em; text-align: center; vertical-align: top\">{&#x27;posts&#x27;: 1.0,<br>&#x27;facebook&#x27;: 1.0} ...</td>\n",
       "        <td style=\"padding-left: 1em; padding-right: 1em; text-align: center; vertical-align: top\">FALSE</td>\n",
       "        <td style=\"padding-left: 1em; padding-right: 1em; text-align: center; vertical-align: top\">11.0</td>\n",
       "        <td style=\"padding-left: 1em; padding-right: 1em; text-align: center; vertical-align: top\">2.0</td>\n",
       "    </tr>\n",
       "    <tr>\n",
       "        <td style=\"padding-left: 1em; padding-right: 1em; text-align: center; vertical-align: top\">{&#x27;reforms&#x27;: 1.0,<br>&#x27;police&#x27;: 1.0, &#x27;period&#x27;: ...</td>\n",
       "        <td style=\"padding-left: 1em; padding-right: 1em; text-align: center; vertical-align: top\">{&#x27;trump&#x27;: 1.0, &#x27;donald&#x27;:<br>1.0} ...</td>\n",
       "        <td style=\"padding-left: 1em; padding-right: 1em; text-align: center; vertical-align: top\">FALSE</td>\n",
       "        <td style=\"padding-left: 1em; padding-right: 1em; text-align: center; vertical-align: top\">10.0</td>\n",
       "        <td style=\"padding-left: 1em; padding-right: 1em; text-align: center; vertical-align: top\">2.0</td>\n",
       "    </tr>\n",
       "    <tr>\n",
       "        <td style=\"padding-left: 1em; padding-right: 1em; text-align: center; vertical-align: top\">{&#x27;trafficking&#x27;: 1.0,<br>&#x27;due&#x27;: 1.0, &#x27;arrest&#x27;: ...</td>\n",
       "        <td style=\"padding-left: 1em; padding-right: 1em; text-align: center; vertical-align: top\">{&#x27;posts&#x27;: 1.0,<br>&#x27;facebook&#x27;: 1.0} ...</td>\n",
       "        <td style=\"padding-left: 1em; padding-right: 1em; text-align: center; vertical-align: top\">pants-fire</td>\n",
       "        <td style=\"padding-left: 1em; padding-right: 1em; text-align: center; vertical-align: top\">10.0</td>\n",
       "        <td style=\"padding-left: 1em; padding-right: 1em; text-align: center; vertical-align: top\">2.0</td>\n",
       "    </tr>\n",
       "</table>\n",
       "[9960 rows x 5 columns]<br/>Note: Only the head of the SFrame is printed.<br/>You can use print_rows(num_rows=m, num_columns=n) to print more rows and columns.\n",
       "</div>"
      ],
      "text/plain": [
       "Columns:\n",
       "\tClean_News_Headline\tdict\n",
       "\tClean_Source\tdict\n",
       "\tLabel\tstr\n",
       "\tNews_Headline\tfloat\n",
       "\tSource\tfloat\n",
       "\n",
       "Rows: 9960\n",
       "\n",
       "Data:\n",
       "+-------------------------------+-------------------------------+-------------+\n",
       "|      Clean_News_Headline      |          Clean_Source         |    Label    |\n",
       "+-------------------------------+-------------------------------+-------------+\n",
       "| {'biden': 1.0, 'joe': 1.0,... | {'trump': 1.0, 'donald': 1.0} |    FALSE    |\n",
       "| {'trump': 1.0, 'cnn': 1.0,... | {'trump': 1.0, 'donald': 1.0} |  pants-fire |\n",
       "| {'model': 1.0, 'american':... | {'posts': 1.0, 'facebook':... |    FALSE    |\n",
       "| {'years': 1.0, 'gross': 1.... |  {'junge': 1.0, 'paul': 1.0}  | barely-true |\n",
       "| {'year': 1.0, 'crisis': 1.... | {'kowalik': 1.0, 'jeanette... |     TRUE    |\n",
       "| {'juneteenth': 1.0, 'heard... | {'trump': 1.0, 'donald': 1.0} |  pants-fire |\n",
       "| {'republican': 1.0, 'vote'... | {'posts': 1.0, 'facebook':... |    FALSE    |\n",
       "| {'supplies': 1.0, 'demandi... | {'posts': 1.0, 'facebook':... |    FALSE    |\n",
       "| {'reforms': 1.0, 'police':... | {'trump': 1.0, 'donald': 1.0} |    FALSE    |\n",
       "| {'trafficking': 1.0, 'due'... | {'posts': 1.0, 'facebook':... |  pants-fire |\n",
       "+-------------------------------+-------------------------------+-------------+\n",
       "+---------------+--------+\n",
       "| News_Headline | Source |\n",
       "+---------------+--------+\n",
       "|      6.0      |  2.0   |\n",
       "|      16.0     |  2.0   |\n",
       "|      11.0     |  2.0   |\n",
       "|      18.0     |  2.0   |\n",
       "|      10.0     |  2.0   |\n",
       "|      5.0      |  2.0   |\n",
       "|      6.0      |  2.0   |\n",
       "|      11.0     |  2.0   |\n",
       "|      10.0     |  2.0   |\n",
       "|      10.0     |  2.0   |\n",
       "+---------------+--------+\n",
       "[9960 rows x 5 columns]\n",
       "Note: Only the head of the SFrame is printed.\n",
       "You can use print_rows(num_rows=m, num_columns=n) to print more rows and columns."
      ]
     },
     "execution_count": 11,
     "metadata": {},
     "output_type": "execute_result"
    }
   ],
   "source": [
    "# Function to sum word counts in a dictionary\n",
    "def sum_word_counts(word_count_dict):\n",
    "    total_count = 0\n",
    "    for count in word_count_dict.values():\n",
    "        total_count += count\n",
    "    return total_count\n",
    "\n",
    "# Apply the function to sum word counts and store the total count\n",
    "sf['News_Headline'] = sf['Clean_News_Headline'].apply(sum_word_counts)\n",
    "sf['Source'] = sf['Clean_Source'].apply(sum_word_counts)\n",
    "\n",
    "# Select only the columns you want to keep\n",
    "columns_to_keep = ['Clean_News_Headline', 'Clean_Source', 'Label', 'News_Headline','Source']\n",
    "sf = sf[columns_to_keep]\n",
    "\n",
    "# Display the modified SFrame\n",
    "sf"
   ]
  },
  {
   "cell_type": "code",
   "execution_count": 12,
   "id": "f30b54bf-4ccb-4737-817b-c6d5c941c003",
   "metadata": {},
   "outputs": [],
   "source": [
    "# Convert SFrame to pandas DataFrame\n",
    "df_cleaned = sf.to_dataframe()\n",
    "\n",
    "# Save pandas DataFrame to CSV file\n",
    "df_cleaned.to_csv('cleaned_data.csv', index=False)"
   ]
  },
  {
   "cell_type": "markdown",
   "id": "0756b728-7452-4e21-b42d-681278d2c3a1",
   "metadata": {},
   "source": [
    "#### <span style=\"color:blue;\">Statistical or categorical description</span>"
   ]
  },
  {
   "cell_type": "code",
   "execution_count": 13,
   "id": "13b17d74-6be5-41ab-9131-0d9b46cb92f8",
   "metadata": {},
   "outputs": [
    {
     "data": {
      "text/html": [
       "<div>\n",
       "<style scoped>\n",
       "    .dataframe tbody tr th:only-of-type {\n",
       "        vertical-align: middle;\n",
       "    }\n",
       "\n",
       "    .dataframe tbody tr th {\n",
       "        vertical-align: top;\n",
       "    }\n",
       "\n",
       "    .dataframe thead th {\n",
       "        text-align: right;\n",
       "    }\n",
       "</style>\n",
       "<table border=\"1\" class=\"dataframe\">\n",
       "  <thead>\n",
       "    <tr style=\"text-align: right;\">\n",
       "      <th></th>\n",
       "      <th>News_Headline</th>\n",
       "      <th>Source</th>\n",
       "    </tr>\n",
       "  </thead>\n",
       "  <tbody>\n",
       "    <tr>\n",
       "      <th>count</th>\n",
       "      <td>9960.000000</td>\n",
       "      <td>9960.000000</td>\n",
       "    </tr>\n",
       "    <tr>\n",
       "      <th>mean</th>\n",
       "      <td>9.051205</td>\n",
       "      <td>2.020181</td>\n",
       "    </tr>\n",
       "    <tr>\n",
       "      <th>std</th>\n",
       "      <td>3.944946</td>\n",
       "      <td>0.515348</td>\n",
       "    </tr>\n",
       "    <tr>\n",
       "      <th>min</th>\n",
       "      <td>1.000000</td>\n",
       "      <td>0.000000</td>\n",
       "    </tr>\n",
       "    <tr>\n",
       "      <th>25%</th>\n",
       "      <td>6.000000</td>\n",
       "      <td>2.000000</td>\n",
       "    </tr>\n",
       "    <tr>\n",
       "      <th>50%</th>\n",
       "      <td>8.000000</td>\n",
       "      <td>2.000000</td>\n",
       "    </tr>\n",
       "    <tr>\n",
       "      <th>75%</th>\n",
       "      <td>11.000000</td>\n",
       "      <td>2.000000</td>\n",
       "    </tr>\n",
       "    <tr>\n",
       "      <th>max</th>\n",
       "      <td>35.000000</td>\n",
       "      <td>7.000000</td>\n",
       "    </tr>\n",
       "  </tbody>\n",
       "</table>\n",
       "</div>"
      ],
      "text/plain": [
       "       News_Headline       Source\n",
       "count    9960.000000  9960.000000\n",
       "mean        9.051205     2.020181\n",
       "std         3.944946     0.515348\n",
       "min         1.000000     0.000000\n",
       "25%         6.000000     2.000000\n",
       "50%         8.000000     2.000000\n",
       "75%        11.000000     2.000000\n",
       "max        35.000000     7.000000"
      ]
     },
     "execution_count": 13,
     "metadata": {},
     "output_type": "execute_result"
    }
   ],
   "source": [
    "df_cleaned.describe()"
   ]
  },
  {
   "cell_type": "markdown",
   "id": "e38ea1ec-243e-44bc-9c1a-7afd372cc137",
   "metadata": {},
   "source": [
    "The data shows that, on average, there are approximately 9 headlines per observation, with a moderate amount of variability across observations. While the minimum number of headlines in an observation is 1, some observations contain as many as 35 headlines, indicating significant variability. Additionally, the most common number of headlines per observation falls within the range of 6 to 11, with the median value being 8. Moreover, the majority of sources (75%) fall within the range of 2 to 7, with the most common source represented by the value of 2."
   ]
  },
  {
   "cell_type": "markdown",
   "id": "ae29cf6e-a3df-4750-982a-4edd0b11b946",
   "metadata": {},
   "source": [
    "The dataset includes 2,709 distinct outlets that provide 9,960 news headlines, demonstrating a wide variety of sources. February 20, 2020 is the date that appears most frequently in headlines related to news items, indicating a noteworthy occurrence or a period of extensive attention. The data, however, raises doubts over its authenticity because the headlines' most frequent label—\"FALSE,\" which appears 2,273 times—indicates a high frequency of false information. According to Politifact, the top headline centers on modifying the filibuster rules for presidential appointees and is associated with Donald Trump, demonstrating the importance of political news. To completely understand the implications and biases of the dataset, more research on source reliability and label distribution over time is required."
   ]
  },
  {
   "cell_type": "markdown",
   "id": "7afc2789-05dd-4f53-840c-2bfa163c8273",
   "metadata": {},
   "source": [
    "#### <span style=\"color:blue;\">Bar graphs of Labels</span>"
   ]
  },
  {
   "cell_type": "code",
   "execution_count": 14,
   "id": "c0e20c00-4eaf-4e09-b124-e5ecf98f83f3",
   "metadata": {},
   "outputs": [
    {
     "data": {
      "text/plain": [
       "([0, 1, 2, 3, 4, 5, 6, 7, 8], <a list of 9 Text xticklabel objects>)"
      ]
     },
     "execution_count": 14,
     "metadata": {},
     "output_type": "execute_result"
    },
    {
     "data": {
      "image/png": "[encoded data removed]",
      "text/plain": [
       "<Figure size 640x480 with 1 Axes>"
      ]
     },
     "metadata": {},
     "output_type": "display_data"
    }
   ],
   "source": [
    "# Count of each label\n",
    "label_counts = df_cleaned['Label'].value_counts()\n",
    "\n",
    "# Bar graph\n",
    "plt.bar(label_counts.index, label_counts.values)\n",
    "plt.xlabel('Label')\n",
    "plt.ylabel('Count')\n",
    "plt.title('Count of Each Label')\n",
    "plt.xticks(rotation=45)"
   ]
  },
  {
   "cell_type": "code",
   "execution_count": 15,
   "id": "4b6d6d85-c56f-43f6-8190-0ae6e48125b8",
   "metadata": {},
   "outputs": [
    {
     "data": {
      "text/plain": [
       "FALSE          2273\n",
       "barely-true    1737\n",
       "mostly-true    1722\n",
       "half-true      1685\n",
       "pants-fire     1402\n",
       "TRUE           1036\n",
       "full-flop        70\n",
       "half-flip        27\n",
       "no-flip           8\n",
       "Name: Label, dtype: int64"
      ]
     },
     "execution_count": 15,
     "metadata": {},
     "output_type": "execute_result"
    }
   ],
   "source": [
    "label_counts"
   ]
  },
  {
   "cell_type": "markdown",
   "id": "543aedaf-7049-439c-82f0-826ecf177d74",
   "metadata": {},
   "source": [
    "The provided label distribution illustrates an imbalanced dataset, with certain classes having significantly more samples than others. The class \"FALSE\" appears most frequently with 2,273 occurrences, suggesting a substantial presence of false information. Other labels indicating varying degrees of truthfulness, such as \"barely-true,\" \"mostly-true,\" and \"half-true,\" also have notable representation. Additionally, classes denoting extreme cases like \"pants-fire\" (indicating flagrant lies) and \"TRUE\" (verified facts) are moderately represented. However, classes such as \"full-flop,\" \"half-flip,\" and \"no-flip\" have significantly fewer samples, with counts of 70, 27, and 8 respectively. These classes likely represent more nuanced categories related to political assertions or claims, but their limited presence in the dataset suggests challenges in accurately modeling such scenarios. Addressing the class imbalance, particularly for the underrepresented classes, is crucial to ensure robust model performance across all truthfulness categories. Further investigation into the dynamics of truthfulness in media coverage, including temporal and source-based trends, can provide deeper insights into the dataset's characteristics and aid in developing effective modeling strategies."
   ]
  }
 ],
 "metadata": {
  "kernelspec": {
   "display_name": "Python 3 (ipykernel)",
   "language": "python",
   "name": "python3"
  },
  "language_info": {
   "codemirror_mode": {
    "name": "ipython",
    "version": 3
   },
   "file_extension": ".py",
   "mimetype": "text/x-python",
   "name": "python",
   "nbconvert_exporter": "python",
   "pygments_lexer": "ipython3",
   "version": "3.7.16"
  }
 },
 "nbformat": 4,
 "nbformat_minor": 5
}

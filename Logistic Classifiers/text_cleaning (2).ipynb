{
 "cells": [
  {
   "cell_type": "code",
   "execution_count": 1,
   "metadata": {},
   "outputs": [],
   "source": [
    "import re\n",
    "import turicreate as tc"
   ]
  },
  {
   "cell_type": "code",
   "execution_count": 2,
   "metadata": {},
   "outputs": [
    {
     "data": {
      "text/html": [
       "<pre>Finished parsing file /home/jziprick/examples/IMDB_Dataset.csv</pre>"
      ],
      "text/plain": [
       "Finished parsing file /home/jziprick/examples/IMDB_Dataset.csv"
      ]
     },
     "metadata": {},
     "output_type": "display_data"
    },
    {
     "data": {
      "text/html": [
       "<pre>Parsing completed. Parsed 100 lines in 0.5696 secs.</pre>"
      ],
      "text/plain": [
       "Parsing completed. Parsed 100 lines in 0.5696 secs."
      ]
     },
     "metadata": {},
     "output_type": "display_data"
    },
    {
     "name": "stdout",
     "output_type": "stream",
     "text": [
      "------------------------------------------------------\n",
      "Inferred types from first 100 line(s) of file as \n",
      "column_type_hints=[str,str]\n",
      "If parsing fails due to incorrect types, you can correct\n",
      "the inferred type list above and pass it to read_csv in\n",
      "the column_type_hints argument\n",
      "------------------------------------------------------\n"
     ]
    },
    {
     "data": {
      "text/html": [
       "<pre>Read 39624 lines. Lines per second: 90117</pre>"
      ],
      "text/plain": [
       "Read 39624 lines. Lines per second: 90117"
      ]
     },
     "metadata": {},
     "output_type": "display_data"
    },
    {
     "data": {
      "text/html": [
       "<pre>Finished parsing file /home/jziprick/examples/IMDB_Dataset.csv</pre>"
      ],
      "text/plain": [
       "Finished parsing file /home/jziprick/examples/IMDB_Dataset.csv"
      ]
     },
     "metadata": {},
     "output_type": "display_data"
    },
    {
     "data": {
      "text/html": [
       "<pre>Parsing completed. Parsed 50000 lines in 0.50367 secs.</pre>"
      ],
      "text/plain": [
       "Parsing completed. Parsed 50000 lines in 0.50367 secs."
      ]
     },
     "metadata": {},
     "output_type": "display_data"
    },
    {
     "data": {
      "text/html": [
       "<div style=\"max-height:1000px;max-width:1500px;overflow:auto;\"><table frame=\"box\" rules=\"cols\">\n",
       "    <tr>\n",
       "        <th style=\"padding-left: 1em; padding-right: 1em; text-align: center\">review</th>\n",
       "        <th style=\"padding-left: 1em; padding-right: 1em; text-align: center\">sentiment</th>\n",
       "    </tr>\n",
       "    <tr>\n",
       "        <td style=\"padding-left: 1em; padding-right: 1em; text-align: center; vertical-align: top\">One of the other<br>reviewers has mentioned ...</td>\n",
       "        <td style=\"padding-left: 1em; padding-right: 1em; text-align: center; vertical-align: top\">positive</td>\n",
       "    </tr>\n",
       "    <tr>\n",
       "        <td style=\"padding-left: 1em; padding-right: 1em; text-align: center; vertical-align: top\">A wonderful little<br>production. &lt;br /&gt;&lt;br ...</td>\n",
       "        <td style=\"padding-left: 1em; padding-right: 1em; text-align: center; vertical-align: top\">positive</td>\n",
       "    </tr>\n",
       "    <tr>\n",
       "        <td style=\"padding-left: 1em; padding-right: 1em; text-align: center; vertical-align: top\">I thought this was a<br>wonderful way to spend ...</td>\n",
       "        <td style=\"padding-left: 1em; padding-right: 1em; text-align: center; vertical-align: top\">positive</td>\n",
       "    </tr>\n",
       "    <tr>\n",
       "        <td style=\"padding-left: 1em; padding-right: 1em; text-align: center; vertical-align: top\">Basically there&#x27;s a<br>family where a little ...</td>\n",
       "        <td style=\"padding-left: 1em; padding-right: 1em; text-align: center; vertical-align: top\">negative</td>\n",
       "    </tr>\n",
       "    <tr>\n",
       "        <td style=\"padding-left: 1em; padding-right: 1em; text-align: center; vertical-align: top\">Petter Mattei&#x27;s &quot;Love in<br>the Time of Money&quot; is a ...</td>\n",
       "        <td style=\"padding-left: 1em; padding-right: 1em; text-align: center; vertical-align: top\">positive</td>\n",
       "    </tr>\n",
       "    <tr>\n",
       "        <td style=\"padding-left: 1em; padding-right: 1em; text-align: center; vertical-align: top\">Probably my all-time<br>favorite movie, a story ...</td>\n",
       "        <td style=\"padding-left: 1em; padding-right: 1em; text-align: center; vertical-align: top\">positive</td>\n",
       "    </tr>\n",
       "    <tr>\n",
       "        <td style=\"padding-left: 1em; padding-right: 1em; text-align: center; vertical-align: top\">I sure would like to see<br>a resurrection of a up ...</td>\n",
       "        <td style=\"padding-left: 1em; padding-right: 1em; text-align: center; vertical-align: top\">positive</td>\n",
       "    </tr>\n",
       "    <tr>\n",
       "        <td style=\"padding-left: 1em; padding-right: 1em; text-align: center; vertical-align: top\">This show was an amazing,<br>fresh &amp; innovative idea ...</td>\n",
       "        <td style=\"padding-left: 1em; padding-right: 1em; text-align: center; vertical-align: top\">negative</td>\n",
       "    </tr>\n",
       "    <tr>\n",
       "        <td style=\"padding-left: 1em; padding-right: 1em; text-align: center; vertical-align: top\">Encouraged by the<br>positive comments about ...</td>\n",
       "        <td style=\"padding-left: 1em; padding-right: 1em; text-align: center; vertical-align: top\">negative</td>\n",
       "    </tr>\n",
       "    <tr>\n",
       "        <td style=\"padding-left: 1em; padding-right: 1em; text-align: center; vertical-align: top\">If you like original gut<br>wrenching laughter you ...</td>\n",
       "        <td style=\"padding-left: 1em; padding-right: 1em; text-align: center; vertical-align: top\">positive</td>\n",
       "    </tr>\n",
       "</table>\n",
       "[50000 rows x 2 columns]<br/>Note: Only the head of the SFrame is printed.<br/>You can use print_rows(num_rows=m, num_columns=n) to print more rows and columns.\n",
       "</div>"
      ],
      "text/plain": [
       "Columns:\n",
       "\treview\tstr\n",
       "\tsentiment\tstr\n",
       "\n",
       "Rows: 50000\n",
       "\n",
       "Data:\n",
       "+-------------------------------+-----------+\n",
       "|             review            | sentiment |\n",
       "+-------------------------------+-----------+\n",
       "| One of the other reviewers... |  positive |\n",
       "| A wonderful little product... |  positive |\n",
       "| I thought this was a wonde... |  positive |\n",
       "| Basically there's a family... |  negative |\n",
       "| Petter Mattei's \"Love in t... |  positive |\n",
       "| Probably my all-time favor... |  positive |\n",
       "| I sure would like to see a... |  positive |\n",
       "| This show was an amazing, ... |  negative |\n",
       "| Encouraged by the positive... |  negative |\n",
       "| If you like original gut w... |  positive |\n",
       "+-------------------------------+-----------+\n",
       "[50000 rows x 2 columns]\n",
       "Note: Only the head of the SFrame is printed.\n",
       "You can use print_rows(num_rows=m, num_columns=n) to print more rows and columns."
      ]
     },
     "execution_count": 2,
     "metadata": {},
     "output_type": "execute_result"
    }
   ],
   "source": [
    "df = tc.SFrame('IMDB_Dataset.csv')\n",
    "df = df[0:10] #keeping SFrame small for testing\n",
    "#df"
   ]
  },
  {
   "cell_type": "code",
   "execution_count": 3,
   "metadata": {},
   "outputs": [
    {
     "data": {
      "text/plain": [
       "\"One of the other reviewers has mentioned that after watching just 1 Oz episode you'll be hooked. They are right, as this is exactly what happened with me.<br /><br />The first thing that struck me about Oz was its brutality and unflinching scenes of violence, which set in right from the word GO. Trust me, this is not a show for the faint hearted or timid. This show pulls no punches with regards to drugs, sex or violence. Its is hardcore, in the classic use of the word.<br /><br />It is called OZ as that is the nickname given to the Oswald Maximum Security State Penitentary. It focuses mainly on Emerald City, an experimental section of the prison where all the cells have glass fronts and face inwards, so privacy is not high on the agenda. Em City is home to many..Aryans, Muslims, gangstas, Latinos, Christians, Italians, Irish and more....so scuffles, death stares, dodgy dealings and shady agreements are never far away.<br /><br />I would say the main appeal of the show is due to the fact that it goes where other shows wouldn't dare. Forget pretty pictures painted for mainstream audiences, forget charm, forget romance...OZ doesn't mess around. The first episode I ever saw struck me as so nasty it was surreal, I couldn't say I was ready for it, but as I watched more, I developed a taste for Oz, and got accustomed to the high levels of graphic violence. Not just violence, but injustice (crooked guards who'll be sold out for a nickel, inmates who'll kill on order and get away with it, well mannered, middle class inmates being turned into prison bitches due to their lack of street skills or prison experience) Watching Oz, you may become comfortable with what is uncomfortable viewing....thats if you can get in touch with your darker side.\""
      ]
     },
     "execution_count": 3,
     "metadata": {},
     "output_type": "execute_result"
    }
   ],
   "source": [
    "# take one example for testing\n",
    "example = df[0]['review']\n",
    "example"
   ]
  },
  {
   "cell_type": "code",
   "execution_count": 4,
   "metadata": {},
   "outputs": [
    {
     "data": {
      "text/plain": [
       "\"One of the other reviewers has mentioned that after watching just 1 Oz episode you'll be hooked. They are right, as this is exactly what happened with me.The first thing that struck me about Oz was its brutality and unflinching scenes of violence, which set in right from the word GO. Trust me, this is not a show for the faint hearted or timid. This show pulls no punches with regards to drugs, sex or violence. Its is hardcore, in the classic use of the word.It is called OZ as that is the nickname given to the Oswald Maximum Security State Penitentary. It focuses mainly on Emerald City, an experimental section of the prison where all the cells have glass fronts and face inwards, so privacy is not high on the agenda. Em City is home to many..Aryans, Muslims, gangstas, Latinos, Christians, Italians, Irish and more....so scuffles, death stares, dodgy dealings and shady agreements are never far away.I would say the main appeal of the show is due to the fact that it goes where other shows wouldn't dare. Forget pretty pictures painted for mainstream audiences, forget charm, forget romance...OZ doesn't mess around. The first episode I ever saw struck me as so nasty it was surreal, I couldn't say I was ready for it, but as I watched more, I developed a taste for Oz, and got accustomed to the high levels of graphic violence. Not just violence, but injustice (crooked guards who'll be sold out for a nickel, inmates who'll kill on order and get away with it, well mannered, middle class inmates being turned into prison bitches due to their lack of street skills or prison experience) Watching Oz, you may become comfortable with what is uncomfortable viewing....thats if you can get in touch with your darker side.\""
      ]
     },
     "execution_count": 4,
     "metadata": {},
     "output_type": "execute_result"
    }
   ],
   "source": [
    "# remove html tags\n",
    "example = re.sub('<.{1,4}>', '', example)\n",
    "example"
   ]
  },
  {
   "cell_type": "code",
   "execution_count": 5,
   "metadata": {},
   "outputs": [
    {
     "data": {
      "text/plain": [
       "'One of the other reviewers has mentioned that after watching just 1 Oz episode youll be hooked They are right as this is exactly what happened with meThe first thing that struck me about Oz was its brutality and unflinching scenes of violence which set in right from the word GO Trust me this is not a show for the faint hearted or timid This show pulls no punches with regards to drugs sex or violence Its is hardcore in the classic use of the wordIt is called OZ as that is the nickname given to the Oswald Maximum Security State Penitentary It focuses mainly on Emerald City an experimental section of the prison where all the cells have glass fronts and face inwards so privacy is not high on the agenda Em City is home to manyAryans Muslims gangstas Latinos Christians Italians Irish and moreso scuffles death stares dodgy dealings and shady agreements are never far awayI would say the main appeal of the show is due to the fact that it goes where other shows wouldnt dare Forget pretty pictures painted for mainstream audiences forget charm forget romanceOZ doesnt mess around The first episode I ever saw struck me as so nasty it was surreal I couldnt say I was ready for it but as I watched more I developed a taste for Oz and got accustomed to the high levels of graphic violence Not just violence but injustice crooked guards wholl be sold out for a nickel inmates wholl kill on order and get away with it well mannered middle class inmates being turned into prison bitches due to their lack of street skills or prison experience Watching Oz you may become comfortable with what is uncomfortable viewingthats if you can get in touch with your darker side'"
      ]
     },
     "execution_count": 5,
     "metadata": {},
     "output_type": "execute_result"
    }
   ],
   "source": [
    "# remove punctuation \n",
    "example = re.sub('[^\\w^\\s\\n]', '', example)\n",
    "example"
   ]
  },
  {
   "cell_type": "code",
   "execution_count": 6,
   "metadata": {},
   "outputs": [
    {
     "data": {
      "text/plain": [
       "'One of the other reviewers has mentioned that after watching just  Oz episode youll be hooked They are right as this is exactly what happened with meThe first thing that struck me about Oz was its brutality and unflinching scenes of violence which set in right from the word GO Trust me this is not a show for the faint hearted or timid This show pulls no punches with regards to drugs sex or violence Its is hardcore in the classic use of the wordIt is called OZ as that is the nickname given to the Oswald Maximum Security State Penitentary It focuses mainly on Emerald City an experimental section of the prison where all the cells have glass fronts and face inwards so privacy is not high on the agenda Em City is home to manyAryans Muslims gangstas Latinos Christians Italians Irish and moreso scuffles death stares dodgy dealings and shady agreements are never far awayI would say the main appeal of the show is due to the fact that it goes where other shows wouldnt dare Forget pretty pictures painted for mainstream audiences forget charm forget romanceOZ doesnt mess around The first episode I ever saw struck me as so nasty it was surreal I couldnt say I was ready for it but as I watched more I developed a taste for Oz and got accustomed to the high levels of graphic violence Not just violence but injustice crooked guards wholl be sold out for a nickel inmates wholl kill on order and get away with it well mannered middle class inmates being turned into prison bitches due to their lack of street skills or prison experience Watching Oz you may become comfortable with what is uncomfortable viewingthats if you can get in touch with your darker side'"
      ]
     },
     "execution_count": 6,
     "metadata": {},
     "output_type": "execute_result"
    }
   ],
   "source": [
    "# remove numbers\n",
    "example = re.sub('\\d', '', example)\n",
    "example"
   ]
  },
  {
   "cell_type": "code",
   "execution_count": 20,
   "metadata": {},
   "outputs": [
    {
     "name": "stdout",
     "output_type": "stream",
     "text": [
      "\\b\n"
     ]
    }
   ],
   "source": [
    "print('\\\\b')"
   ]
  },
  {
   "cell_type": "code",
   "execution_count": 7,
   "metadata": {},
   "outputs": [
    {
     "name": "stdout",
     "output_type": "stream",
     "text": [
      "One  the other reviewers has mentioned that after watching just   episode youll  hooked They are right  this  exactly what happened with meThe first thing that struck  about  was its brutality and unflinching scenes  violence which set  right from the word  Trust  this  not  show for the faint hearted  timid This show pulls  punches with regards  drugs sex  violence Its  hardcore  the classic use  the wordIt  called   that  the nickname given  the Oswald Maximum Security State Penitentary  focuses mainly  Emerald City  experimental section  the prison where all the cells have glass fronts and face inwards  privacy  not high  the agenda  City  home  manyAryans Muslims gangstas Latinos Christians Italians Irish and moreso scuffles death stares dodgy dealings and shady agreements are never far awayI would say the main appeal  the show  due  the fact that  goes where other shows wouldnt dare Forget pretty pictures painted for mainstream audiences forget charm forget romanceOZ doesnt mess around The first episode  ever saw struck    nasty  was surreal  couldnt say  was ready for  but   watched more  developed  taste for  and got accustomed  the high levels  graphic violence Not just violence but injustice crooked guards wholl  sold out for  nickel inmates wholl kill  order and get away with  well mannered middle class inmates being turned into prison bitches due  their lack  street skills  prison experience Watching  you may become comfortable with what  uncomfortable viewingthats  you can get  touch with your darker side\n"
     ]
    }
   ],
   "source": [
    "# remove words with one to two characters\n",
    "example = re.sub('\\\\b\\w{1,2}\\\\b', '', example)\n",
    "print(example)"
   ]
  },
  {
   "cell_type": "code",
   "execution_count": 8,
   "metadata": {},
   "outputs": [
    {
     "data": {
      "text/plain": [
       "'one  the other reviewers has mentioned that after watching just   episode youll  hooked they are right  this  exactly what happened with methe first thing that struck  about  was its brutality and unflinching scenes  violence which set  right from the word  trust  this  not  show for the faint hearted  timid this show pulls  punches with regards  drugs sex  violence its  hardcore  the classic use  the wordit  called   that  the nickname given  the oswald maximum security state penitentary  focuses mainly  emerald city  experimental section  the prison where all the cells have glass fronts and face inwards  privacy  not high  the agenda  city  home  manyaryans muslims gangstas latinos christians italians irish and moreso scuffles death stares dodgy dealings and shady agreements are never far awayi would say the main appeal  the show  due  the fact that  goes where other shows wouldnt dare forget pretty pictures painted for mainstream audiences forget charm forget romanceoz doesnt mess around the first episode  ever saw struck    nasty  was surreal  couldnt say  was ready for  but   watched more  developed  taste for  and got accustomed  the high levels  graphic violence not just violence but injustice crooked guards wholl  sold out for  nickel inmates wholl kill  order and get away with  well mannered middle class inmates being turned into prison bitches due  their lack  street skills  prison experience watching  you may become comfortable with what  uncomfortable viewingthats  you can get  touch with your darker side'"
      ]
     },
     "execution_count": 8,
     "metadata": {},
     "output_type": "execute_result"
    }
   ],
   "source": [
    "# make everything lowercase\n",
    "example = example.lower()\n",
    "example"
   ]
  },
  {
   "cell_type": "code",
   "execution_count": 9,
   "metadata": {},
   "outputs": [],
   "source": [
    "# make a list of stopwords (this list is too short)\n",
    "stopwords = ['the', 'and']"
   ]
  },
  {
   "cell_type": "code",
   "execution_count": 10,
   "metadata": {},
   "outputs": [
    {
     "name": "stdout",
     "output_type": "stream",
     "text": [
      "\b\n",
      "\\b\n"
     ]
    }
   ],
   "source": [
    "# note that \\b is already a special character in python\n",
    "print('\\b')\n",
    "# use \\\\b to set a string character to have a \\b\n",
    "print('\\\\b')"
   ]
  },
  {
   "cell_type": "code",
   "execution_count": 11,
   "metadata": {},
   "outputs": [
    {
     "data": {
      "text/plain": [
       "'one   other reviewers has mentioned that after watching just   episode youll  hooked they are right  this  exactly what happened with methe first thing that struck  about  was its brutality  unflinching scenes  violence which set  right from  word  trust  this  not  show for  faint hearted  timid this show pulls  punches with regards  drugs sex  violence its  hardcore   classic use   wordit  called   that   nickname given   oswald maximum security state penitentary  focuses mainly  emerald city  experimental section   prison where all  cells have glass fronts  face inwards  privacy  not high   agenda  city  home  manyaryans muslims gangstas latinos christians italians irish  moreso scuffles death stares dodgy dealings  shady agreements are never far awayi would say  main appeal   show  due   fact that  goes where other shows wouldnt dare forget pretty pictures painted for mainstream audiences forget charm forget romanceoz doesnt mess around  first episode  ever saw struck    nasty  was surreal  couldnt say  was ready for  but   watched more  developed  taste for   got accustomed   high levels  graphic violence not just violence but injustice crooked guards wholl  sold out for  nickel inmates wholl kill  order  get away with  well mannered middle class inmates being turned into prison bitches due  their lack  street skills  prison experience watching  you may become comfortable with what  uncomfortable viewingthats  you can get  touch with your darker side'"
      ]
     },
     "execution_count": 11,
     "metadata": {},
     "output_type": "execute_result"
    }
   ],
   "source": [
    "#remove stopwords\n",
    "for word in stopwords:\n",
    "    example = re.sub('\\\\b' + word + '\\\\b', '', example)\n",
    "example"
   ]
  },
  {
   "cell_type": "code",
   "execution_count": 12,
   "metadata": {},
   "outputs": [
    {
     "data": {
      "text/plain": [
       "dtype: str\n",
       "Rows: 1\n",
       "['one   other reviewers has mentioned that after watching just   episode youll  hooked they are right  this  exactly what happened with methe first thing that struck  about  was its brutality  unflinching scenes  violence which set  right from  word  trust  this  not  show for  faint hearted  timid this show pulls  punches with regards  drugs sex  violence its  hardcore   classic use   wordit  called   that   nickname given   oswald maximum security state penitentary  focuses mainly  emerald city  experimental section   prison where all  cells have glass fronts  face inwards  privacy  not high   agenda  city  home  manyaryans muslims gangstas latinos christians italians irish  moreso scuffles death stares dodgy dealings  shady agreements are never far awayi would say  main appeal   show  due   fact that  goes where other shows wouldnt dare forget pretty pictures painted for mainstream audiences forget charm forget romanceoz doesnt mess around  first episode  ever saw struck    nasty  was surreal  couldnt say  was ready for  but   watched more  developed  taste for   got accustomed   high levels  graphic violence not just violence but injustice crooked guards wholl  sold out for  nickel inmates wholl kill  order  get away with  well mannered middle class inmates being turned into prison bitches due  their lack  street skills  prison experience watching  you may become comfortable with what  uncomfortable viewingthats  you can get  touch with your darker side']"
      ]
     },
     "execution_count": 12,
     "metadata": {},
     "output_type": "execute_result"
    }
   ],
   "source": [
    "example = tc.SArray([example],str)\n",
    "example"
   ]
  },
  {
   "cell_type": "code",
   "execution_count": 13,
   "metadata": {},
   "outputs": [
    {
     "data": {
      "text/plain": [
       "dtype: dict\n",
       "Rows: 1\n",
       "[{'darker': 1.0, 'your': 1.0, 'touch': 1.0, 'viewingthats': 1.0, 'may': 1.0, 'you': 2.0, 'their': 1.0, 'into': 1.0, 'turned': 1.0, 'being': 1.0, 'middle': 1.0, 'mannered': 1.0, 'bitches': 1.0, 'well': 1.0, 'away': 1.0, 'get': 2.0, 'order': 1.0, 'kill': 1.0, 'inmates': 2.0, 'nickel': 1.0, 'wholl': 2.0, 'guards': 1.0, 'crooked': 1.0, 'injustice': 1.0, 'graphic': 1.0, 'can': 1.0, 'levels': 1.0, 'got': 1.0, 'developed': 1.0, 'more': 1.0, 'out': 1.0, 'watched': 1.0, 'surreal': 1.0, 'saw': 1.0, 'mess': 1.0, 'charm': 1.0, 'accustomed': 1.0, 'audiences': 1.0, 'mainstream': 1.0, 'painted': 1.0, 'pictures': 1.0, 'forget': 3.0, 'dare': 1.0, 'wouldnt': 1.0, 'shows': 1.0, 'goes': 1.0, 'fact': 1.0, 'main': 1.0, 'punches': 1.0, 'class': 1.0, 'timid': 1.0, 'faint': 1.0, 'episode': 2.0, 'youll': 1.0, 'uncomfortable': 1.0, 'reviewers': 1.0, 'called': 1.0, 'regards': 1.0, 'lack': 1.0, 'hearted': 1.0, 'violence': 4.0, 'sold': 1.0, 'scenes': 1.0, 'comfortable': 1.0, 'experience': 1.0, 'say': 2.0, 'sex': 1.0, 'unflinching': 1.0, 'brutality': 1.0, 'stares': 1.0, 'its': 2.0, 'was': 3.0, 'about': 1.0, 'thing': 1.0, 'security': 1.0, 'moreso': 1.0, 'pulls': 1.0, 'face': 1.0, 'just': 2.0, 'has': 1.0, 'watching': 2.0, 'after': 1.0, 'hooked': 1.0, 'taste': 1.0, 'what': 2.0, 'that': 4.0, 'mentioned': 1.0, 'penitentary': 1.0, 'inwards': 1.0, 'right': 2.0, 'but': 2.0, 'nickname': 1.0, 'drugs': 1.0, 'are': 2.0, 'first': 2.0, 'from': 1.0, 'become': 1.0, 'trust': 1.0, 'latinos': 1.0, 'skills': 1.0, 'they': 1.0, 'street': 1.0, 'not': 3.0, 'methe': 1.0, 'ever': 1.0, 'all': 1.0, 'other': 2.0, 'with': 5.0, 'this': 3.0, 'for': 5.0, 'doesnt': 1.0, 'where': 2.0, 'one': 1.0, 'happened': 1.0, 'ready': 1.0, 'dealings': 1.0, 'hardcore': 1.0, 'classic': 1.0, 'use': 1.0, 'side': 1.0, 'which': 1.0, 'privacy': 1.0, 'exactly': 1.0, 'set': 1.0, 'given': 1.0, 'mainly': 1.0, 'oswald': 1.0, 'due': 2.0, 'shady': 1.0, 'maximum': 1.0, 'nasty': 1.0, 'around': 1.0, 'appeal': 1.0, 'gangstas': 1.0, 'couldnt': 1.0, 'word': 1.0, 'state': 1.0, 'would': 1.0, 'focuses': 1.0, 'glass': 1.0, 'scuffles': 1.0, 'city': 2.0, 'irish': 1.0, 'romanceoz': 1.0, 'experimental': 1.0, 'section': 1.0, 'prison': 3.0, 'have': 1.0, 'fronts': 1.0, 'pretty': 1.0, 'struck': 2.0, 'high': 2.0, 'far': 1.0, 'agenda': 1.0, 'emerald': 1.0, 'home': 1.0, 'cells': 1.0, 'manyaryans': 1.0, 'never': 1.0, 'christians': 1.0, 'italians': 1.0, 'wordit': 1.0, 'muslims': 1.0, 'death': 1.0, 'dodgy': 1.0, 'show': 3.0, 'agreements': 1.0, 'awayi': 1.0}]"
      ]
     },
     "execution_count": 13,
     "metadata": {},
     "output_type": "execute_result"
    }
   ],
   "source": [
    "tc.text_analytics.count_words(example)"
   ]
  },
  {
   "cell_type": "code",
   "execution_count": 14,
   "metadata": {},
   "outputs": [],
   "source": [
    "# This function cleans a single review.\n",
    "\n",
    "def clean_text(sample):\n",
    "    # remove html tags\n",
    "    sample = re.sub('<.{1,4}>', '', sample)\n",
    "    \n",
    "    # remove punctuation \n",
    "    sample = re.sub('[^\\w^\\s\\n]', ' ', sample)\n",
    "    \n",
    "    # remove numbers\n",
    "    sample = re.sub(\"\\d\", \"\", sample)\n",
    "    \n",
    "    # make everything lowercase\n",
    "    sample = sample.lower()\n",
    "    \n",
    "    # remove words with one to two characters\n",
    "    sample = re.sub('\\\\b\\w{1,2}\\\\b', '', sample)\n",
    "    \n",
    "    #remove stopwords\n",
    "    for word in stopwords:\n",
    "        sample = re.sub('\\\\b' + word + '\\\\b', '', sample)\n",
    "    \n",
    "    return sample"
   ]
  },
  {
   "cell_type": "code",
   "execution_count": 15,
   "metadata": {},
   "outputs": [
    {
     "data": {
      "text/plain": [
       "'this movie  awful   can  even  bothered  write  review  this garbage  all  will say   one   most boring films   ever seen   acting  very bad   boy who plays  main character really annoys     got  same expression  his face through out  movie   just want  slap him  basically     movie  slow motion shots  skateboarders  weird music   utter    apparently   got  write  least  lines  text  submit this comment     use   few more lines  saying  lead character has got one  those faces you just want  slap meh  give   this movie sucks     '"
      ]
     },
     "execution_count": 15,
     "metadata": {},
     "output_type": "execute_result"
    }
   ],
   "source": [
    "# applying the clean_text() function to each row of the SFrame\n",
    "# note this is much faster than looping through row-by-row\n",
    "df['cleaned'] = df.apply(lambda x: clean_text(x['review']))\n",
    "df['cleaned'][1000]"
   ]
  },
  {
   "cell_type": "code",
   "execution_count": 16,
   "metadata": {},
   "outputs": [
    {
     "data": {
      "text/html": [
       "<div style=\"max-height:1000px;max-width:1500px;overflow:auto;\"><table frame=\"box\" rules=\"cols\">\n",
       "    <tr>\n",
       "        <th style=\"padding-left: 1em; padding-right: 1em; text-align: center\">review</th>\n",
       "        <th style=\"padding-left: 1em; padding-right: 1em; text-align: center\">sentiment</th>\n",
       "        <th style=\"padding-left: 1em; padding-right: 1em; text-align: center\">cleaned</th>\n",
       "        <th style=\"padding-left: 1em; padding-right: 1em; text-align: center\">words</th>\n",
       "    </tr>\n",
       "    <tr>\n",
       "        <td style=\"padding-left: 1em; padding-right: 1em; text-align: center; vertical-align: top\">One of the other<br>reviewers has mentioned ...</td>\n",
       "        <td style=\"padding-left: 1em; padding-right: 1em; text-align: center; vertical-align: top\">positive</td>\n",
       "        <td style=\"padding-left: 1em; padding-right: 1em; text-align: center; vertical-align: top\">one   other reviewers has<br>mentioned that after ...</td>\n",
       "        <td style=\"padding-left: 1em; padding-right: 1em; text-align: center; vertical-align: top\">{&#x27;darker&#x27;: 1.0, &#x27;touch&#x27;:<br>1.0, &#x27;thats&#x27;: 1.0, ...</td>\n",
       "    </tr>\n",
       "    <tr>\n",
       "        <td style=\"padding-left: 1em; padding-right: 1em; text-align: center; vertical-align: top\">A wonderful little<br>production. &lt;br /&gt;&lt;br ...</td>\n",
       "        <td style=\"padding-left: 1em; padding-right: 1em; text-align: center; vertical-align: top\">positive</td>\n",
       "        <td style=\"padding-left: 1em; padding-right: 1em; text-align: center; vertical-align: top\"> wonderful little<br>production   filming ...</td>\n",
       "        <td style=\"padding-left: 1em; padding-right: 1em; text-align: center; vertical-align: top\">{&#x27;terribly&#x27;: 1.0,<br>&#x27;surface&#x27;: 1.0, ...</td>\n",
       "    </tr>\n",
       "    <tr>\n",
       "        <td style=\"padding-left: 1em; padding-right: 1em; text-align: center; vertical-align: top\">I thought this was a<br>wonderful way to spend ...</td>\n",
       "        <td style=\"padding-left: 1em; padding-right: 1em; text-align: center; vertical-align: top\">positive</td>\n",
       "        <td style=\"padding-left: 1em; padding-right: 1em; text-align: center; vertical-align: top\"> thought this was<br>wonderful way  spend  ...</td>\n",
       "        <td style=\"padding-left: 1em; padding-right: 1em; text-align: center; vertical-align: top\">{&#x27;great&#x27;: 1.0, &#x27;see&#x27;:<br>1.0, &#x27;risk&#x27;: 1.0, ...</td>\n",
       "    </tr>\n",
       "    <tr>\n",
       "        <td style=\"padding-left: 1em; padding-right: 1em; text-align: center; vertical-align: top\">Basically there&#x27;s a<br>family where a little ...</td>\n",
       "        <td style=\"padding-left: 1em; padding-right: 1em; text-align: center; vertical-align: top\">negative</td>\n",
       "        <td style=\"padding-left: 1em; padding-right: 1em; text-align: center; vertical-align: top\">basically there   family<br>where  little boy  jake ...</td>\n",
       "        <td style=\"padding-left: 1em; padding-right: 1em; text-align: center; vertical-align: top\">{&#x27;them&#x27;: 1.0, &#x27;ignore&#x27;:<br>1.0, &#x27;dialogs&#x27;: 1.0, ...</td>\n",
       "    </tr>\n",
       "    <tr>\n",
       "        <td style=\"padding-left: 1em; padding-right: 1em; text-align: center; vertical-align: top\">Petter Mattei&#x27;s &quot;Love in<br>the Time of Money&quot; is a ...</td>\n",
       "        <td style=\"padding-left: 1em; padding-right: 1em; text-align: center; vertical-align: top\">positive</td>\n",
       "        <td style=\"padding-left: 1em; padding-right: 1em; text-align: center; vertical-align: top\">petter mattei   love<br>time  money    visually ...</td>\n",
       "        <td style=\"padding-left: 1em; padding-right: 1em; text-align: center; vertical-align: top\">{&#x27;work&#x27;: 1.0, &#x27;for&#x27;: 1.0,<br>&#x27;anxiously&#x27;: 1.0, ...</td>\n",
       "    </tr>\n",
       "    <tr>\n",
       "        <td style=\"padding-left: 1em; padding-right: 1em; text-align: center; vertical-align: top\">Probably my all-time<br>favorite movie, a story ...</td>\n",
       "        <td style=\"padding-left: 1em; padding-right: 1em; text-align: center; vertical-align: top\">positive</td>\n",
       "        <td style=\"padding-left: 1em; padding-right: 1em; text-align: center; vertical-align: top\">probably  all time<br>favorite movie   story ...</td>\n",
       "        <td style=\"padding-left: 1em; padding-right: 1em; text-align: center; vertical-align: top\">{&#x27;for&#x27;: 1.0, &#x27;dozen&#x27;:<br>1.0, &#x27;startling&#x27;: 1.0, ...</td>\n",
       "    </tr>\n",
       "    <tr>\n",
       "        <td style=\"padding-left: 1em; padding-right: 1em; text-align: center; vertical-align: top\">I sure would like to see<br>a resurrection of a up ...</td>\n",
       "        <td style=\"padding-left: 1em; padding-right: 1em; text-align: center; vertical-align: top\">positive</td>\n",
       "        <td style=\"padding-left: 1em; padding-right: 1em; text-align: center; vertical-align: top\"> sure would like  see<br>resurrection    dated ...</td>\n",
       "        <td style=\"padding-left: 1em; padding-right: 1em; text-align: center; vertical-align: top\">{&#x27;then&#x27;: 1.0, &#x27;doubt&#x27;:<br>1.0, &#x27;out&#x27;: 1.0, &#x27;lin ...</td>\n",
       "    </tr>\n",
       "    <tr>\n",
       "        <td style=\"padding-left: 1em; padding-right: 1em; text-align: center; vertical-align: top\">This show was an amazing,<br>fresh &amp; innovative idea ...</td>\n",
       "        <td style=\"padding-left: 1em; padding-right: 1em; text-align: center; vertical-align: top\">negative</td>\n",
       "        <td style=\"padding-left: 1em; padding-right: 1em; text-align: center; vertical-align: top\">this show was  amazing<br>fresh   innovative idea ...</td>\n",
       "        <td style=\"padding-left: 1em; padding-right: 1em; text-align: center; vertical-align: top\">{&#x27;awful&#x27;: 1.0, &#x27;just&#x27;:<br>1.0, &#x27;now&#x27;: 1.0, ...</td>\n",
       "    </tr>\n",
       "    <tr>\n",
       "        <td style=\"padding-left: 1em; padding-right: 1em; text-align: center; vertical-align: top\">Encouraged by the<br>positive comments about ...</td>\n",
       "        <td style=\"padding-left: 1em; padding-right: 1em; text-align: center; vertical-align: top\">negative</td>\n",
       "        <td style=\"padding-left: 1em; padding-right: 1em; text-align: center; vertical-align: top\">encouraged   positive<br>comments about this film ...</td>\n",
       "        <td style=\"padding-left: 1em; padding-right: 1em; text-align: center; vertical-align: top\">{&#x27;obsessives&#x27;: 1.0,<br>&#x27;effort&#x27;: 1.0, &#x27;bit&#x27;: ...</td>\n",
       "    </tr>\n",
       "    <tr>\n",
       "        <td style=\"padding-left: 1em; padding-right: 1em; text-align: center; vertical-align: top\">If you like original gut<br>wrenching laughter you ...</td>\n",
       "        <td style=\"padding-left: 1em; padding-right: 1em; text-align: center; vertical-align: top\">positive</td>\n",
       "        <td style=\"padding-left: 1em; padding-right: 1em; text-align: center; vertical-align: top\"> you like original gut<br>wrenching laughter you ...</td>\n",
       "        <td style=\"padding-left: 1em; padding-right: 1em; text-align: center; vertical-align: top\">{&#x27;mom&#x27;: 1.0, &#x27;hell&#x27;: 1.0,<br>&#x27;great&#x27;: 1.0, &#x27;love&#x27;: ...</td>\n",
       "    </tr>\n",
       "</table>\n",
       "[50000 rows x 4 columns]<br/>Note: Only the head of the SFrame is printed.<br/>You can use print_rows(num_rows=m, num_columns=n) to print more rows and columns.\n",
       "</div>"
      ],
      "text/plain": [
       "Columns:\n",
       "\treview\tstr\n",
       "\tsentiment\tstr\n",
       "\tcleaned\tstr\n",
       "\twords\tdict\n",
       "\n",
       "Rows: 50000\n",
       "\n",
       "Data:\n",
       "+-------------------------------+-----------+-------------------------------+\n",
       "|             review            | sentiment |            cleaned            |\n",
       "+-------------------------------+-----------+-------------------------------+\n",
       "| One of the other reviewers... |  positive | one   other reviewers has ... |\n",
       "| A wonderful little product... |  positive |  wonderful little producti... |\n",
       "| I thought this was a wonde... |  positive |  thought this was  wonderf... |\n",
       "| Basically there's a family... |  negative | basically there   family w... |\n",
       "| Petter Mattei's \"Love in t... |  positive | petter mattei   love   tim... |\n",
       "| Probably my all-time favor... |  positive | probably  all time favorit... |\n",
       "| I sure would like to see a... |  positive |  sure would like  see  res... |\n",
       "| This show was an amazing, ... |  negative | this show was  amazing  fr... |\n",
       "| Encouraged by the positive... |  negative | encouraged   positive comm... |\n",
       "| If you like original gut w... |  positive |  you like original gut wre... |\n",
       "+-------------------------------+-----------+-------------------------------+\n",
       "+-------------------------------+\n",
       "|             words             |\n",
       "+-------------------------------+\n",
       "| {'darker': 1.0, 'touch': 1... |\n",
       "| {'terribly': 1.0, 'surface... |\n",
       "| {'great': 1.0, 'see': 1.0,... |\n",
       "| {'them': 1.0, 'ignore': 1.... |\n",
       "| {'work': 1.0, 'for': 1.0, ... |\n",
       "| {'for': 1.0, 'dozen': 1.0,... |\n",
       "| {'then': 1.0, 'doubt': 1.0... |\n",
       "| {'awful': 1.0, 'just': 1.0... |\n",
       "| {'obsessives': 1.0, 'effor... |\n",
       "| {'mom': 1.0, 'hell': 1.0, ... |\n",
       "+-------------------------------+\n",
       "[50000 rows x 4 columns]\n",
       "Note: Only the head of the SFrame is printed.\n",
       "You can use print_rows(num_rows=m, num_columns=n) to print more rows and columns."
      ]
     },
     "execution_count": 16,
     "metadata": {},
     "output_type": "execute_result"
    }
   ],
   "source": [
    "# counting words and adding word-count dictionary to SFrame\n",
    "df['words'] = tc.text_analytics.count_words(df['cleaned'])\n",
    "df"
   ]
  },
  {
   "cell_type": "code",
   "execution_count": null,
   "metadata": {},
   "outputs": [],
   "source": []
  }
 ],
 "metadata": {
  "kernelspec": {
   "display_name": "Python 3 (ipykernel)",
   "language": "python",
   "name": "python3"
  },
  "language_info": {
   "codemirror_mode": {
    "name": "ipython",
    "version": 3
   },
   "file_extension": ".py",
   "mimetype": "text/x-python",
   "name": "python",
   "nbconvert_exporter": "python",
   "pygments_lexer": "ipython3",
   "version": "3.8.15"
  }
 },
 "nbformat": 4,
 "nbformat_minor": 4
}
